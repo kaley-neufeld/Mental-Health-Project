{
 "cells": [
  {
   "cell_type": "code",
   "execution_count": 1,
   "id": "c5bd3f66-74f0-4683-8416-a12738f6dbba",
   "metadata": {},
   "outputs": [],
   "source": [
    "import pandas as pd\n",
    "from datetime import datetime, timedelta, date\n",
    "from sklearn import linear_model, model_selection, metrics"
   ]
  },
  {
   "cell_type": "code",
   "execution_count": 2,
   "id": "b82363ba-9206-482f-abc5-c1554c6b190e",
   "metadata": {},
   "outputs": [],
   "source": [
    "data_location = '../Sample Data/'\n",
    "mood_data_location = data_location+'FinchExport_2025-03-01/Mood.json'\n",
    "exvar_data_location = data_location+'FinchExport_2025-03-01/Bullet.json'"
   ]
  },
  {
   "cell_type": "markdown",
   "id": "639c4b17-05c6-4a11-a78d-fbb59782ef62",
   "metadata": {},
   "source": [
    "### response"
   ]
  },
  {
   "cell_type": "code",
   "execution_count": 3,
   "id": "ede906a9-193a-4bb4-a875-13846222e0c9",
   "metadata": {},
   "outputs": [],
   "source": [
    "mood_series = pd.read_json(mood_data_location, typ='series')\n",
    "mood_data = pd.json_normalize(mood_series.data)\n",
    "mood_data['value'] = pd.to_numeric(mood_data.value)"
   ]
  },
  {
   "cell_type": "code",
   "execution_count": 4,
   "id": "09ce358e-7f7b-4b1e-9903-85c063e48ce9",
   "metadata": {},
   "outputs": [],
   "source": [
    "# note: a pandas update didn't like the non-zero-padded 'day' of the Finch data\n",
    "# so I'm using datetime.strptime instead of pd.to_datetime for now\n",
    "mood_data['Record_Date'] = mood_data.dt.map(lambda x: datetime.strptime(x, \"%a, %d %b %Y %H:%M:%S\")).dt.date\n",
    "mood_data = mood_data.drop(['dt','updated_time'],axis=1)"
   ]
  },
  {
   "cell_type": "code",
   "execution_count": 5,
   "id": "38e0cbcc-fd25-4efe-ab6b-cc87600c8698",
   "metadata": {},
   "outputs": [
    {
     "data": {
      "text/html": [
       "<div>\n",
       "<style scoped>\n",
       "    .dataframe tbody tr th:only-of-type {\n",
       "        vertical-align: middle;\n",
       "    }\n",
       "\n",
       "    .dataframe tbody tr th {\n",
       "        vertical-align: top;\n",
       "    }\n",
       "\n",
       "    .dataframe thead th {\n",
       "        text-align: right;\n",
       "    }\n",
       "</style>\n",
       "<table border=\"1\" class=\"dataframe\">\n",
       "  <thead>\n",
       "    <tr style=\"text-align: right;\">\n",
       "      <th></th>\n",
       "      <th>value</th>\n",
       "      <th>Record_Date</th>\n",
       "    </tr>\n",
       "  </thead>\n",
       "  <tbody>\n",
       "    <tr>\n",
       "      <th>0</th>\n",
       "      <td>4</td>\n",
       "      <td>2023-05-06</td>\n",
       "    </tr>\n",
       "    <tr>\n",
       "      <th>3</th>\n",
       "      <td>3</td>\n",
       "      <td>2023-07-12</td>\n",
       "    </tr>\n",
       "    <tr>\n",
       "      <th>6</th>\n",
       "      <td>4</td>\n",
       "      <td>2024-12-10</td>\n",
       "    </tr>\n",
       "    <tr>\n",
       "      <th>8</th>\n",
       "      <td>3</td>\n",
       "      <td>2023-10-29</td>\n",
       "    </tr>\n",
       "    <tr>\n",
       "      <th>10</th>\n",
       "      <td>3</td>\n",
       "      <td>2022-10-27</td>\n",
       "    </tr>\n",
       "  </tbody>\n",
       "</table>\n",
       "</div>"
      ],
      "text/plain": [
       "    value Record_Date\n",
       "0       4  2023-05-06\n",
       "3       3  2023-07-12\n",
       "6       4  2024-12-10\n",
       "8       3  2023-10-29\n",
       "10      3  2022-10-27"
      ]
     },
     "execution_count": 5,
     "metadata": {},
     "output_type": "execute_result"
    }
   ],
   "source": [
    "feeling_data = mood_data.query(\"mood_type == 'feeling'\")\n",
    "feeling_data = feeling_data.drop('mood_type',axis=1)\n",
    "feeling_data.head()"
   ]
  },
  {
   "cell_type": "code",
   "execution_count": 6,
   "id": "1c743ffb-2672-46c0-8912-f29802e20b7d",
   "metadata": {},
   "outputs": [
    {
     "data": {
      "text/html": [
       "<div>\n",
       "<style scoped>\n",
       "    .dataframe tbody tr th:only-of-type {\n",
       "        vertical-align: middle;\n",
       "    }\n",
       "\n",
       "    .dataframe tbody tr th {\n",
       "        vertical-align: top;\n",
       "    }\n",
       "\n",
       "    .dataframe thead th {\n",
       "        text-align: right;\n",
       "    }\n",
       "</style>\n",
       "<table border=\"1\" class=\"dataframe\">\n",
       "  <thead>\n",
       "    <tr style=\"text-align: right;\">\n",
       "      <th></th>\n",
       "      <th>Record_Date</th>\n",
       "      <th>value</th>\n",
       "    </tr>\n",
       "  </thead>\n",
       "  <tbody>\n",
       "    <tr>\n",
       "      <th>0</th>\n",
       "      <td>2022-10-26</td>\n",
       "      <td>3.000</td>\n",
       "    </tr>\n",
       "    <tr>\n",
       "      <th>1</th>\n",
       "      <td>2022-10-27</td>\n",
       "      <td>3.000</td>\n",
       "    </tr>\n",
       "    <tr>\n",
       "      <th>2</th>\n",
       "      <td>2022-10-28</td>\n",
       "      <td>2.875</td>\n",
       "    </tr>\n",
       "    <tr>\n",
       "      <th>3</th>\n",
       "      <td>2022-10-29</td>\n",
       "      <td>3.500</td>\n",
       "    </tr>\n",
       "    <tr>\n",
       "      <th>4</th>\n",
       "      <td>2022-10-30</td>\n",
       "      <td>3.500</td>\n",
       "    </tr>\n",
       "  </tbody>\n",
       "</table>\n",
       "</div>"
      ],
      "text/plain": [
       "  Record_Date  value\n",
       "0  2022-10-26  3.000\n",
       "1  2022-10-27  3.000\n",
       "2  2022-10-28  2.875\n",
       "3  2022-10-29  3.500\n",
       "4  2022-10-30  3.500"
      ]
     },
     "execution_count": 6,
     "metadata": {},
     "output_type": "execute_result"
    }
   ],
   "source": [
    "avg_feelings_df = feeling_data[['value','Record_Date']].groupby('Record_Date').mean().reset_index()\n",
    "avg_feelings_df.head()"
   ]
  },
  {
   "cell_type": "markdown",
   "id": "4ff8b1c3-95b2-4b19-a3af-ca2e1f5a4cab",
   "metadata": {},
   "source": [
    "### explanatory"
   ]
  },
  {
   "cell_type": "code",
   "execution_count": 7,
   "id": "958f7632-12ac-4744-99fb-cffaafd9d87f",
   "metadata": {},
   "outputs": [],
   "source": [
    "exvar_series = pd.read_json(exvar_data_location, typ='series')\n",
    "exvar_data = pd.json_normalize(exvar_series.data)"
   ]
  },
  {
   "cell_type": "code",
   "execution_count": 8,
   "id": "2647dddd-f6d9-4d03-9db9-4f7a74b40352",
   "metadata": {},
   "outputs": [],
   "source": [
    "exvar_df = exvar_data[['dt','bullet_type','text','bullet_status']]\n",
    "exvar_df = exvar_df.query(\"bullet_type == 1\")\n",
    "exvar_df = exvar_df.drop('bullet_type',axis=1)"
   ]
  },
  {
   "cell_type": "code",
   "execution_count": 9,
   "id": "0f08d60d-1b98-4a8f-873a-fb57b5d1d52e",
   "metadata": {},
   "outputs": [],
   "source": [
    "# convert to datetime\n",
    "exvar_df['Record_Date'] = exvar_df.dt.map(lambda x: datetime.strptime(x, \"%a, %d %b %Y %H:%M:%S\")).dt.date\n",
    "exvar_df = exvar_df.drop(['dt'],axis=1)"
   ]
  },
  {
   "cell_type": "code",
   "execution_count": 10,
   "id": "e71dcd7e-3c9c-41fb-b588-63e2d87cebe9",
   "metadata": {},
   "outputs": [
    {
     "data": {
      "text/html": [
       "<div>\n",
       "<style scoped>\n",
       "    .dataframe tbody tr th:only-of-type {\n",
       "        vertical-align: middle;\n",
       "    }\n",
       "\n",
       "    .dataframe tbody tr th {\n",
       "        vertical-align: top;\n",
       "    }\n",
       "\n",
       "    .dataframe thead th {\n",
       "        text-align: right;\n",
       "    }\n",
       "</style>\n",
       "<table border=\"1\" class=\"dataframe\">\n",
       "  <thead>\n",
       "    <tr style=\"text-align: right;\">\n",
       "      <th></th>\n",
       "      <th>text</th>\n",
       "      <th>bullet_status</th>\n",
       "      <th>Record_Date</th>\n",
       "    </tr>\n",
       "  </thead>\n",
       "  <tbody>\n",
       "    <tr>\n",
       "      <th>0</th>\n",
       "      <td>#Meditation Timer</td>\n",
       "      <td>0.0</td>\n",
       "      <td>2024-04-28</td>\n",
       "    </tr>\n",
       "    <tr>\n",
       "      <th>1</th>\n",
       "      <td>Think about a positive moment with #yoga</td>\n",
       "      <td>0.0</td>\n",
       "      <td>2024-04-11</td>\n",
       "    </tr>\n",
       "    <tr>\n",
       "      <th>2</th>\n",
       "      <td>#Yoga</td>\n",
       "      <td>0.0</td>\n",
       "      <td>2024-05-17</td>\n",
       "    </tr>\n",
       "    <tr>\n",
       "      <th>3</th>\n",
       "      <td>Think about a positive moment with #yoga</td>\n",
       "      <td>0.0</td>\n",
       "      <td>2024-01-28</td>\n",
       "    </tr>\n",
       "    <tr>\n",
       "      <th>4</th>\n",
       "      <td>#Read for #fun</td>\n",
       "      <td>1.0</td>\n",
       "      <td>2023-09-05</td>\n",
       "    </tr>\n",
       "  </tbody>\n",
       "</table>\n",
       "</div>"
      ],
      "text/plain": [
       "                                       text  bullet_status Record_Date\n",
       "0                         #Meditation Timer            0.0  2024-04-28\n",
       "1  Think about a positive moment with #yoga            0.0  2024-04-11\n",
       "2                                     #Yoga            0.0  2024-05-17\n",
       "3  Think about a positive moment with #yoga            0.0  2024-01-28\n",
       "4                            #Read for #fun            1.0  2023-09-05"
      ]
     },
     "execution_count": 10,
     "metadata": {},
     "output_type": "execute_result"
    }
   ],
   "source": [
    "exvar_df.head()"
   ]
  },
  {
   "cell_type": "code",
   "execution_count": 11,
   "id": "f1846c05-9c2a-4828-b971-747b13269d9f",
   "metadata": {},
   "outputs": [],
   "source": [
    "# replace {old_name: new name}\n",
    "duplicates_dict = {\n",
    "    \"Laundry\":\"Start a load of laundry\",\n",
    "    \"Create a Finch_Backup_File\":\"Create a Finch Backup File\",\n",
    "    \"Walk around the neighborhood\":\"Mindfulness Walk\"\n",
    "}\n",
    "\n",
    "exvar_df['text'] = exvar_df['text'].str.replace(\"#\",\"\")\n",
    "exvar_df['text'] = exvar_df['text'].replace(duplicates_dict)"
   ]
  },
  {
   "cell_type": "code",
   "execution_count": 12,
   "id": "c5091340-738c-4173-8992-348c3c3f606c",
   "metadata": {},
   "outputs": [],
   "source": [
    "#March 1,2025 is incomplete date, the date I downloaded the data\n",
    "cut_off_date = datetime(2025,3,1).date()\n",
    "exvar_df = exvar_df[exvar_df['Record_Date'] < cut_off_date]"
   ]
  },
  {
   "cell_type": "code",
   "execution_count": 13,
   "id": "c84573c9-d7cc-4648-b3c5-2971c62157fa",
   "metadata": {},
   "outputs": [
    {
     "data": {
      "text/html": [
       "<div>\n",
       "<style scoped>\n",
       "    .dataframe tbody tr th:only-of-type {\n",
       "        vertical-align: middle;\n",
       "    }\n",
       "\n",
       "    .dataframe tbody tr th {\n",
       "        vertical-align: top;\n",
       "    }\n",
       "\n",
       "    .dataframe thead th {\n",
       "        text-align: right;\n",
       "    }\n",
       "</style>\n",
       "<table border=\"1\" class=\"dataframe\">\n",
       "  <thead>\n",
       "    <tr style=\"text-align: right;\">\n",
       "      <th></th>\n",
       "      <th>text</th>\n",
       "      <th>bullet_status</th>\n",
       "      <th>Record_Date</th>\n",
       "    </tr>\n",
       "  </thead>\n",
       "  <tbody>\n",
       "    <tr>\n",
       "      <th>0</th>\n",
       "      <td>Meditation Timer</td>\n",
       "      <td>0.0</td>\n",
       "      <td>2024-04-28</td>\n",
       "    </tr>\n",
       "    <tr>\n",
       "      <th>1</th>\n",
       "      <td>Think about a positive moment with yoga</td>\n",
       "      <td>0.0</td>\n",
       "      <td>2024-04-11</td>\n",
       "    </tr>\n",
       "    <tr>\n",
       "      <th>2</th>\n",
       "      <td>Yoga</td>\n",
       "      <td>0.0</td>\n",
       "      <td>2024-05-17</td>\n",
       "    </tr>\n",
       "    <tr>\n",
       "      <th>3</th>\n",
       "      <td>Think about a positive moment with yoga</td>\n",
       "      <td>0.0</td>\n",
       "      <td>2024-01-28</td>\n",
       "    </tr>\n",
       "    <tr>\n",
       "      <th>4</th>\n",
       "      <td>Read for fun</td>\n",
       "      <td>1.0</td>\n",
       "      <td>2023-09-05</td>\n",
       "    </tr>\n",
       "  </tbody>\n",
       "</table>\n",
       "</div>"
      ],
      "text/plain": [
       "                                      text  bullet_status Record_Date\n",
       "0                         Meditation Timer            0.0  2024-04-28\n",
       "1  Think about a positive moment with yoga            0.0  2024-04-11\n",
       "2                                     Yoga            0.0  2024-05-17\n",
       "3  Think about a positive moment with yoga            0.0  2024-01-28\n",
       "4                             Read for fun            1.0  2023-09-05"
      ]
     },
     "execution_count": 13,
     "metadata": {},
     "output_type": "execute_result"
    }
   ],
   "source": [
    "exvar_df.head()"
   ]
  },
  {
   "cell_type": "markdown",
   "id": "d9bc2084-33d4-4f24-8ce9-a2643fdba3ad",
   "metadata": {},
   "source": [
    "### narrow explanatory variables to Yoga"
   ]
  },
  {
   "cell_type": "code",
   "execution_count": 14,
   "id": "23ede8b9-8755-4440-b6f9-520cc905ed8c",
   "metadata": {},
   "outputs": [
    {
     "data": {
      "text/html": [
       "<div>\n",
       "<style scoped>\n",
       "    .dataframe tbody tr th:only-of-type {\n",
       "        vertical-align: middle;\n",
       "    }\n",
       "\n",
       "    .dataframe tbody tr th {\n",
       "        vertical-align: top;\n",
       "    }\n",
       "\n",
       "    .dataframe thead th {\n",
       "        text-align: right;\n",
       "    }\n",
       "</style>\n",
       "<table border=\"1\" class=\"dataframe\">\n",
       "  <thead>\n",
       "    <tr style=\"text-align: right;\">\n",
       "      <th></th>\n",
       "      <th>bullet_status</th>\n",
       "      <th>Record_Date</th>\n",
       "    </tr>\n",
       "  </thead>\n",
       "  <tbody>\n",
       "    <tr>\n",
       "      <th>2</th>\n",
       "      <td>0.0</td>\n",
       "      <td>2024-05-17</td>\n",
       "    </tr>\n",
       "    <tr>\n",
       "      <th>5</th>\n",
       "      <td>1.0</td>\n",
       "      <td>2024-07-16</td>\n",
       "    </tr>\n",
       "    <tr>\n",
       "      <th>26</th>\n",
       "      <td>0.0</td>\n",
       "      <td>2024-06-24</td>\n",
       "    </tr>\n",
       "    <tr>\n",
       "      <th>31</th>\n",
       "      <td>0.0</td>\n",
       "      <td>2024-03-17</td>\n",
       "    </tr>\n",
       "    <tr>\n",
       "      <th>113</th>\n",
       "      <td>0.0</td>\n",
       "      <td>2025-01-26</td>\n",
       "    </tr>\n",
       "  </tbody>\n",
       "</table>\n",
       "</div>"
      ],
      "text/plain": [
       "     bullet_status Record_Date\n",
       "2              0.0  2024-05-17\n",
       "5              1.0  2024-07-16\n",
       "26             0.0  2024-06-24\n",
       "31             0.0  2024-03-17\n",
       "113            0.0  2025-01-26"
      ]
     },
     "execution_count": 14,
     "metadata": {},
     "output_type": "execute_result"
    }
   ],
   "source": [
    "yoga_df = exvar_df[exvar_df['text'] == 'Yoga']\n",
    "yoga_df = yoga_df.drop('text',axis=1)\n",
    "yoga_df.head()"
   ]
  },
  {
   "cell_type": "markdown",
   "id": "1bd87d39-09e0-4d2e-bde0-0eebbc6ac261",
   "metadata": {},
   "source": [
    "### cut response and explan data to same dates"
   ]
  },
  {
   "cell_type": "code",
   "execution_count": 15,
   "id": "8f2f9396-4f70-407c-8370-f15bec49e85b",
   "metadata": {},
   "outputs": [
    {
     "name": "stdout",
     "output_type": "stream",
     "text": [
      "X min date: 2023-08-07\n",
      "X max date: 2025-02-28\n"
     ]
    }
   ],
   "source": [
    "x_min_date = yoga_df['Record_Date'].min()\n",
    "x_max_date = yoga_df['Record_Date'].max()\n",
    "\n",
    "print(\"X min date: \" + str(x_min_date))\n",
    "print(\"X max date: \" + str(x_max_date))"
   ]
  },
  {
   "cell_type": "code",
   "execution_count": 16,
   "id": "f587b15b-0a8b-465c-8229-01ef683200ed",
   "metadata": {},
   "outputs": [
    {
     "name": "stdout",
     "output_type": "stream",
     "text": [
      "Y min date: 2022-10-26\n",
      "Y max date: 2025-02-28\n"
     ]
    }
   ],
   "source": [
    "y_min_date = avg_feelings_df['Record_Date'].min()\n",
    "y_max_date = avg_feelings_df['Record_Date'].max()\n",
    "\n",
    "print(\"Y min date: \" + str(y_min_date))\n",
    "print(\"Y max date: \" + str(y_max_date))"
   ]
  },
  {
   "cell_type": "code",
   "execution_count": 17,
   "id": "354fdca4-9abd-4222-8990-d793d1c999a0",
   "metadata": {},
   "outputs": [
    {
     "name": "stdout",
     "output_type": "stream",
     "text": [
      "min date: 2023-08-07\n",
      "max date: 2025-02-28\n"
     ]
    }
   ],
   "source": [
    "min_date = max(x_min_date,y_min_date)\n",
    "max_date = min(x_max_date,y_max_date)\n",
    "\n",
    "print(\"min date: \" + str(min_date))\n",
    "print(\"max date: \" + str(max_date))"
   ]
  },
  {
   "cell_type": "code",
   "execution_count": 18,
   "id": "8dde3890-a3d3-4348-8766-38c4cdd34578",
   "metadata": {},
   "outputs": [
    {
     "name": "stdout",
     "output_type": "stream",
     "text": [
      "avg_feelings_df length before is 832\n",
      "avg_feelings_df length after is 557\n"
     ]
    }
   ],
   "source": [
    "print(\"avg_feelings_df length before is \" + str(len(avg_feelings_df)))\n",
    "avg_feelings_df = avg_feelings_df[(avg_feelings_df['Record_Date'] > min_date) & (avg_feelings_df['Record_Date'] < max_date)]\n",
    "print(\"avg_feelings_df length after is \" + str(len(avg_feelings_df)))"
   ]
  },
  {
   "cell_type": "code",
   "execution_count": 19,
   "id": "2abfa8eb-3503-452b-aeaa-c6955690f44b",
   "metadata": {},
   "outputs": [
    {
     "name": "stdout",
     "output_type": "stream",
     "text": [
      "yoga_df length before is 552\n",
      "yoga_df length after is 550\n"
     ]
    }
   ],
   "source": [
    "print(\"yoga_df length before is \" + str(len(yoga_df)))\n",
    "yoga_df = yoga_df[(yoga_df['Record_Date'] > min_date) & (yoga_df['Record_Date'] < max_date)]\n",
    "print(\"yoga_df length after is \" + str(len(yoga_df)))"
   ]
  },
  {
   "cell_type": "code",
   "execution_count": 23,
   "id": "709a4c17-5774-44b7-935f-b928fceca41f",
   "metadata": {},
   "outputs": [
    {
     "name": "stdout",
     "output_type": "stream",
     "text": [
      "missing yoga days: 36\n",
      "missing feelings days: 15\n",
      "36\n"
     ]
    }
   ],
   "source": [
    "y_missing_dates = pd.date_range(start=min_date, end=max_date).difference(avg_feelings_df['Record_Date'])\n",
    "x_missing_dates = pd.date_range(start=min_date, end=max_date).difference(yoga_df['Record_Date'])\n",
    "print(\"missing yoga days: \" + str(len(x_missing_dates)))\n",
    "print(\"missing feelings days: \" + str(len(y_missing_dates)))\n",
    "\n",
    "missing_dates = set(())\n",
    "for i in y_missing_dates:\n",
    "    missing_dates.add(i)\n",
    "for i in x_missing_dates:\n",
    "    missing_dates.add(i)\n",
    "    \n",
    "print(len(missing_dates))"
   ]
  },
  {
   "cell_type": "code",
   "execution_count": 24,
   "id": "fbf9a40e-6a13-4845-a150-312cd8c2635a",
   "metadata": {},
   "outputs": [
    {
     "name": "stdout",
     "output_type": "stream",
     "text": [
      "feelings records before reducing dates: 557\n",
      "feelings records after reducing dates: 557\n"
     ]
    }
   ],
   "source": [
    "print(\"feelings records before reducing dates: \" + str(len(avg_feelings_df)))\n",
    "avg_feelings_df = avg_feelings_df[~avg_feelings_df['Record_Date'].isin(missing_dates)].sort_values('Record_Date')\n",
    "print(\"feelings records after reducing dates: \" + str(len(avg_feelings_df)))"
   ]
  },
  {
   "cell_type": "code",
   "execution_count": 25,
   "id": "afe2d35c-811f-4e77-8ec0-c1389b556624",
   "metadata": {},
   "outputs": [
    {
     "name": "stdout",
     "output_type": "stream",
     "text": [
      "yoga records before reducing dates: 537\n",
      "yoga records after reducing dates: 537\n"
     ]
    }
   ],
   "source": [
    "print(\"yoga records before reducing dates: \" + str(len(yoga_df)))\n",
    "yoga_df = yoga_df[~yoga_df['Record_Date'].isin(missing_dates)].sort_values('Record_Date')\n",
    "print(\"yoga records after reducing dates: \" + str(len(yoga_df)))"
   ]
  },
  {
   "cell_type": "code",
   "execution_count": null,
   "id": "a75ada0b-c787-4c8f-93a8-9255c3d85fae",
   "metadata": {},
   "outputs": [],
   "source": []
  },
  {
   "cell_type": "code",
   "execution_count": null,
   "id": "f158a4c9-a6af-4cb3-a575-05615387b13f",
   "metadata": {},
   "outputs": [],
   "source": []
  },
  {
   "cell_type": "code",
   "execution_count": null,
   "id": "e4e6bcde-8753-4746-9958-a01dd9ece1d7",
   "metadata": {},
   "outputs": [],
   "source": []
  }
 ],
 "metadata": {
  "kernelspec": {
   "display_name": "Python 3 (ipykernel)",
   "language": "python",
   "name": "python3"
  },
  "language_info": {
   "codemirror_mode": {
    "name": "ipython",
    "version": 3
   },
   "file_extension": ".py",
   "mimetype": "text/x-python",
   "name": "python",
   "nbconvert_exporter": "python",
   "pygments_lexer": "ipython3",
   "version": "3.12.7"
  }
 },
 "nbformat": 4,
 "nbformat_minor": 5
}
