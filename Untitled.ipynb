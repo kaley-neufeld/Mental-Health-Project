{
 "cells": [
  {
   "cell_type": "code",
   "execution_count": 13,
   "id": "f7fd8f2c",
   "metadata": {},
   "outputs": [],
   "source": [
    "import pandas as pd"
   ]
  },
  {
   "cell_type": "code",
   "execution_count": 14,
   "id": "25cfcc87",
   "metadata": {},
   "outputs": [],
   "source": [
    "data_location = 'C:/Users/kaley/OneDrive/Documents/Coding Stuff/Data Science/Mental Health Project/Sample Data/Withings/data_KDN_1700624124/'"
   ]
  },
  {
   "cell_type": "code",
   "execution_count": 15,
   "id": "c6ae6ec6",
   "metadata": {},
   "outputs": [],
   "source": [
    "df = pd.read_csv(data_location+'raw_hr_hr.csv')"
   ]
  },
  {
   "cell_type": "code",
   "execution_count": 16,
   "id": "511b4dc3",
   "metadata": {},
   "outputs": [
    {
     "data": {
      "text/html": [
       "<div>\n",
       "<style scoped>\n",
       "    .dataframe tbody tr th:only-of-type {\n",
       "        vertical-align: middle;\n",
       "    }\n",
       "\n",
       "    .dataframe tbody tr th {\n",
       "        vertical-align: top;\n",
       "    }\n",
       "\n",
       "    .dataframe thead th {\n",
       "        text-align: right;\n",
       "    }\n",
       "</style>\n",
       "<table border=\"1\" class=\"dataframe\">\n",
       "  <thead>\n",
       "    <tr style=\"text-align: right;\">\n",
       "      <th></th>\n",
       "      <th>start</th>\n",
       "      <th>duration</th>\n",
       "      <th>value</th>\n",
       "    </tr>\n",
       "  </thead>\n",
       "  <tbody>\n",
       "    <tr>\n",
       "      <th>0</th>\n",
       "      <td>2023-11-21T02:15:49+01:00</td>\n",
       "      <td>[43]</td>\n",
       "      <td>[104]</td>\n",
       "    </tr>\n",
       "    <tr>\n",
       "      <th>1</th>\n",
       "      <td>2023-11-21T02:45:39+01:00</td>\n",
       "      <td>[38]</td>\n",
       "      <td>[121]</td>\n",
       "    </tr>\n",
       "    <tr>\n",
       "      <th>2</th>\n",
       "      <td>2023-11-21T02:55:00+01:00</td>\n",
       "      <td>[19]</td>\n",
       "      <td>[116]</td>\n",
       "    </tr>\n",
       "    <tr>\n",
       "      <th>3</th>\n",
       "      <td>2023-11-21T03:04:25+01:00</td>\n",
       "      <td>[24]</td>\n",
       "      <td>[116]</td>\n",
       "    </tr>\n",
       "    <tr>\n",
       "      <th>4</th>\n",
       "      <td>2023-11-21T03:13:48+01:00</td>\n",
       "      <td>[22]</td>\n",
       "      <td>[116]</td>\n",
       "    </tr>\n",
       "  </tbody>\n",
       "</table>\n",
       "</div>"
      ],
      "text/plain": [
       "                       start duration  value\n",
       "0  2023-11-21T02:15:49+01:00     [43]  [104]\n",
       "1  2023-11-21T02:45:39+01:00     [38]  [121]\n",
       "2  2023-11-21T02:55:00+01:00     [19]  [116]\n",
       "3  2023-11-21T03:04:25+01:00     [24]  [116]\n",
       "4  2023-11-21T03:13:48+01:00     [22]  [116]"
      ]
     },
     "execution_count": 16,
     "metadata": {},
     "output_type": "execute_result"
    }
   ],
   "source": [
    "df.head()"
   ]
  },
  {
   "cell_type": "code",
   "execution_count": 18,
   "id": "52e4fefa",
   "metadata": {},
   "outputs": [
    {
     "data": {
      "text/plain": [
       "(292118, 3)"
      ]
     },
     "execution_count": 18,
     "metadata": {},
     "output_type": "execute_result"
    }
   ],
   "source": [
    "df.shape"
   ]
  },
  {
   "cell_type": "code",
   "execution_count": 19,
   "id": "81d1290c",
   "metadata": {},
   "outputs": [],
   "source": [
    "sample_df = df.head(100)"
   ]
  },
  {
   "cell_type": "code",
   "execution_count": 21,
   "id": "0a7f58ca",
   "metadata": {},
   "outputs": [
    {
     "data": {
      "text/html": [
       "<div>\n",
       "<style scoped>\n",
       "    .dataframe tbody tr th:only-of-type {\n",
       "        vertical-align: middle;\n",
       "    }\n",
       "\n",
       "    .dataframe tbody tr th {\n",
       "        vertical-align: top;\n",
       "    }\n",
       "\n",
       "    .dataframe thead th {\n",
       "        text-align: right;\n",
       "    }\n",
       "</style>\n",
       "<table border=\"1\" class=\"dataframe\">\n",
       "  <thead>\n",
       "    <tr style=\"text-align: right;\">\n",
       "      <th></th>\n",
       "      <th>start</th>\n",
       "      <th>duration</th>\n",
       "      <th>value</th>\n",
       "    </tr>\n",
       "  </thead>\n",
       "  <tbody>\n",
       "    <tr>\n",
       "      <th>0</th>\n",
       "      <td>2023-11-21T02:15:49+01:00</td>\n",
       "      <td>[43]</td>\n",
       "      <td>[104]</td>\n",
       "    </tr>\n",
       "    <tr>\n",
       "      <th>1</th>\n",
       "      <td>2023-11-21T02:45:39+01:00</td>\n",
       "      <td>[38]</td>\n",
       "      <td>[121]</td>\n",
       "    </tr>\n",
       "    <tr>\n",
       "      <th>2</th>\n",
       "      <td>2023-11-21T02:55:00+01:00</td>\n",
       "      <td>[19]</td>\n",
       "      <td>[116]</td>\n",
       "    </tr>\n",
       "    <tr>\n",
       "      <th>3</th>\n",
       "      <td>2023-11-21T03:04:25+01:00</td>\n",
       "      <td>[24]</td>\n",
       "      <td>[116]</td>\n",
       "    </tr>\n",
       "    <tr>\n",
       "      <th>4</th>\n",
       "      <td>2023-11-21T03:13:48+01:00</td>\n",
       "      <td>[22]</td>\n",
       "      <td>[116]</td>\n",
       "    </tr>\n",
       "    <tr>\n",
       "      <th>...</th>\n",
       "      <td>...</td>\n",
       "      <td>...</td>\n",
       "      <td>...</td>\n",
       "    </tr>\n",
       "    <tr>\n",
       "      <th>95</th>\n",
       "      <td>2023-11-21T18:24:17+01:00</td>\n",
       "      <td>[42]</td>\n",
       "      <td>[72]</td>\n",
       "    </tr>\n",
       "    <tr>\n",
       "      <th>96</th>\n",
       "      <td>2023-11-21T18:34:17+01:00</td>\n",
       "      <td>[59]</td>\n",
       "      <td>[96]</td>\n",
       "    </tr>\n",
       "    <tr>\n",
       "      <th>97</th>\n",
       "      <td>2023-11-21T18:54:16+01:00</td>\n",
       "      <td>[52]</td>\n",
       "      <td>[122]</td>\n",
       "    </tr>\n",
       "    <tr>\n",
       "      <th>98</th>\n",
       "      <td>2023-11-21T19:03:38+01:00</td>\n",
       "      <td>[21]</td>\n",
       "      <td>[95]</td>\n",
       "    </tr>\n",
       "    <tr>\n",
       "      <th>99</th>\n",
       "      <td>2023-11-21T19:13:27+01:00</td>\n",
       "      <td>[48]</td>\n",
       "      <td>[102]</td>\n",
       "    </tr>\n",
       "  </tbody>\n",
       "</table>\n",
       "<p>100 rows × 3 columns</p>\n",
       "</div>"
      ],
      "text/plain": [
       "                        start duration  value\n",
       "0   2023-11-21T02:15:49+01:00     [43]  [104]\n",
       "1   2023-11-21T02:45:39+01:00     [38]  [121]\n",
       "2   2023-11-21T02:55:00+01:00     [19]  [116]\n",
       "3   2023-11-21T03:04:25+01:00     [24]  [116]\n",
       "4   2023-11-21T03:13:48+01:00     [22]  [116]\n",
       "..                        ...      ...    ...\n",
       "95  2023-11-21T18:24:17+01:00     [42]   [72]\n",
       "96  2023-11-21T18:34:17+01:00     [59]   [96]\n",
       "97  2023-11-21T18:54:16+01:00     [52]  [122]\n",
       "98  2023-11-21T19:03:38+01:00     [21]   [95]\n",
       "99  2023-11-21T19:13:27+01:00     [48]  [102]\n",
       "\n",
       "[100 rows x 3 columns]"
      ]
     },
     "execution_count": 21,
     "metadata": {},
     "output_type": "execute_result"
    }
   ],
   "source": [
    "sample_df"
   ]
  },
  {
   "cell_type": "code",
   "execution_count": 22,
   "id": "b850d4b4",
   "metadata": {},
   "outputs": [
    {
     "name": "stderr",
     "output_type": "stream",
     "text": [
      "C:\\Users\\kaley\\AppData\\Local\\Temp\\ipykernel_3248\\1514273199.py:1: SettingWithCopyWarning: \n",
      "A value is trying to be set on a copy of a slice from a DataFrame.\n",
      "Try using .loc[row_indexer,col_indexer] = value instead\n",
      "\n",
      "See the caveats in the documentation: https://pandas.pydata.org/pandas-docs/stable/user_guide/indexing.html#returning-a-view-versus-a-copy\n",
      "  sample_df['datetime'] = pd.to_datetime(sample_df['start'])\n"
     ]
    }
   ],
   "source": [
    "sample_df['datetime'] = pd.to_datetime(sample_df['start'])"
   ]
  },
  {
   "cell_type": "code",
   "execution_count": 27,
   "id": "71093cbe",
   "metadata": {},
   "outputs": [
    {
     "name": "stderr",
     "output_type": "stream",
     "text": [
      "C:\\Users\\kaley\\AppData\\Local\\Temp\\ipykernel_3248\\710955407.py:1: FutureWarning: Treating datetime data as categorical rather than numeric in `.describe` is deprecated and will be removed in a future version of pandas. Specify `datetime_is_numeric=True` to silence this warning and adopt the future behavior now.\n",
      "  sample_df.describe()\n"
     ]
    },
    {
     "data": {
      "text/html": [
       "<div>\n",
       "<style scoped>\n",
       "    .dataframe tbody tr th:only-of-type {\n",
       "        vertical-align: middle;\n",
       "    }\n",
       "\n",
       "    .dataframe tbody tr th {\n",
       "        vertical-align: top;\n",
       "    }\n",
       "\n",
       "    .dataframe thead th {\n",
       "        text-align: right;\n",
       "    }\n",
       "</style>\n",
       "<table border=\"1\" class=\"dataframe\">\n",
       "  <thead>\n",
       "    <tr style=\"text-align: right;\">\n",
       "      <th></th>\n",
       "      <th>start</th>\n",
       "      <th>duration</th>\n",
       "      <th>value</th>\n",
       "      <th>datetime</th>\n",
       "    </tr>\n",
       "  </thead>\n",
       "  <tbody>\n",
       "    <tr>\n",
       "      <th>count</th>\n",
       "      <td>100</td>\n",
       "      <td>100</td>\n",
       "      <td>100</td>\n",
       "      <td>100</td>\n",
       "    </tr>\n",
       "    <tr>\n",
       "      <th>unique</th>\n",
       "      <td>100</td>\n",
       "      <td>27</td>\n",
       "      <td>49</td>\n",
       "      <td>100</td>\n",
       "    </tr>\n",
       "    <tr>\n",
       "      <th>top</th>\n",
       "      <td>2023-11-21T02:15:49+01:00</td>\n",
       "      <td>[22]</td>\n",
       "      <td>[69]</td>\n",
       "      <td>2023-11-21 02:15:49+01:00</td>\n",
       "    </tr>\n",
       "    <tr>\n",
       "      <th>freq</th>\n",
       "      <td>1</td>\n",
       "      <td>22</td>\n",
       "      <td>5</td>\n",
       "      <td>1</td>\n",
       "    </tr>\n",
       "    <tr>\n",
       "      <th>first</th>\n",
       "      <td>NaN</td>\n",
       "      <td>NaN</td>\n",
       "      <td>NaN</td>\n",
       "      <td>2023-11-21 02:15:49+01:00</td>\n",
       "    </tr>\n",
       "    <tr>\n",
       "      <th>last</th>\n",
       "      <td>NaN</td>\n",
       "      <td>NaN</td>\n",
       "      <td>NaN</td>\n",
       "      <td>2023-11-21 19:13:27+01:00</td>\n",
       "    </tr>\n",
       "  </tbody>\n",
       "</table>\n",
       "</div>"
      ],
      "text/plain": [
       "                            start duration value                   datetime\n",
       "count                         100      100   100                        100\n",
       "unique                        100       27    49                        100\n",
       "top     2023-11-21T02:15:49+01:00     [22]  [69]  2023-11-21 02:15:49+01:00\n",
       "freq                            1       22     5                          1\n",
       "first                         NaN      NaN   NaN  2023-11-21 02:15:49+01:00\n",
       "last                          NaN      NaN   NaN  2023-11-21 19:13:27+01:00"
      ]
     },
     "execution_count": 27,
     "metadata": {},
     "output_type": "execute_result"
    }
   ],
   "source": [
    "sample_df.describe()"
   ]
  },
  {
   "cell_type": "code",
   "execution_count": null,
   "id": "acc0918c",
   "metadata": {},
   "outputs": [],
   "source": []
  }
 ],
 "metadata": {
  "kernelspec": {
   "display_name": "Python 3 (ipykernel)",
   "language": "python",
   "name": "python3"
  },
  "language_info": {
   "codemirror_mode": {
    "name": "ipython",
    "version": 3
   },
   "file_extension": ".py",
   "mimetype": "text/x-python",
   "name": "python",
   "nbconvert_exporter": "python",
   "pygments_lexer": "ipython3",
   "version": "3.9.13"
  }
 },
 "nbformat": 4,
 "nbformat_minor": 5
}
