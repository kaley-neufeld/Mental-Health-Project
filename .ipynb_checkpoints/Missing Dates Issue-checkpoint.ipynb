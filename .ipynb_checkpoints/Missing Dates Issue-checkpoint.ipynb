{
 "cells": [
  {
   "cell_type": "code",
   "execution_count": 31,
   "id": "4fce685b",
   "metadata": {},
   "outputs": [],
   "source": [
    "import pandas as pd"
   ]
  },
  {
   "cell_type": "code",
   "execution_count": 32,
   "id": "f7742c16",
   "metadata": {},
   "outputs": [],
   "source": [
    "data_location = 'C:/Users/kaley/OneDrive/Documents/Coding Stuff/Data Science/Mental Health Project/Sample Data'\n",
    "step_data_location = data_location + '/Withings/aggregates_steps.csv'\n"
   ]
  },
  {
   "cell_type": "code",
   "execution_count": 33,
   "id": "2457d602",
   "metadata": {},
   "outputs": [],
   "source": [
    "step_data = pd.read_csv(step_data_location)"
   ]
  },
  {
   "cell_type": "code",
   "execution_count": 34,
   "id": "85c11702",
   "metadata": {},
   "outputs": [],
   "source": [
    "step_data['Date'] = pd.to_datetime(step_data.date)\n",
    "step_data['Date'] = step_data['Date'].dt.date\n",
    "step_data = step_data.rename(columns={'value':'Steps'})\n",
    "step_data = step_data[['Date','Steps']]"
   ]
  },
  {
   "cell_type": "code",
   "execution_count": 35,
   "id": "08e9695f",
   "metadata": {},
   "outputs": [
    {
     "data": {
      "text/html": [
       "<div>\n",
       "<style scoped>\n",
       "    .dataframe tbody tr th:only-of-type {\n",
       "        vertical-align: middle;\n",
       "    }\n",
       "\n",
       "    .dataframe tbody tr th {\n",
       "        vertical-align: top;\n",
       "    }\n",
       "\n",
       "    .dataframe thead th {\n",
       "        text-align: right;\n",
       "    }\n",
       "</style>\n",
       "<table border=\"1\" class=\"dataframe\">\n",
       "  <thead>\n",
       "    <tr style=\"text-align: right;\">\n",
       "      <th></th>\n",
       "      <th>Date</th>\n",
       "      <th>Steps</th>\n",
       "    </tr>\n",
       "  </thead>\n",
       "  <tbody>\n",
       "    <tr>\n",
       "      <th>0</th>\n",
       "      <td>2023-07-10</td>\n",
       "      <td>11333</td>\n",
       "    </tr>\n",
       "    <tr>\n",
       "      <th>1</th>\n",
       "      <td>2023-07-09</td>\n",
       "      <td>7697</td>\n",
       "    </tr>\n",
       "    <tr>\n",
       "      <th>2</th>\n",
       "      <td>2023-07-08</td>\n",
       "      <td>6183</td>\n",
       "    </tr>\n",
       "    <tr>\n",
       "      <th>3</th>\n",
       "      <td>2023-07-07</td>\n",
       "      <td>8002</td>\n",
       "    </tr>\n",
       "    <tr>\n",
       "      <th>4</th>\n",
       "      <td>2023-07-06</td>\n",
       "      <td>5622</td>\n",
       "    </tr>\n",
       "  </tbody>\n",
       "</table>\n",
       "</div>"
      ],
      "text/plain": [
       "         Date  Steps\n",
       "0  2023-07-10  11333\n",
       "1  2023-07-09   7697\n",
       "2  2023-07-08   6183\n",
       "3  2023-07-07   8002\n",
       "4  2023-07-06   5622"
      ]
     },
     "execution_count": 35,
     "metadata": {},
     "output_type": "execute_result"
    }
   ],
   "source": [
    "step_data.head()"
   ]
  },
  {
   "cell_type": "code",
   "execution_count": 36,
   "id": "ff2b1e39",
   "metadata": {},
   "outputs": [],
   "source": [
    "mood_data_location = data_location + '/FinchExport_2023-06-22/Mood.json'\n"
   ]
  },
  {
   "cell_type": "code",
   "execution_count": 37,
   "id": "c3e83253",
   "metadata": {},
   "outputs": [],
   "source": [
    "mood_data = pd.read_json(mood_data_location, lines=True)"
   ]
  },
  {
   "cell_type": "code",
   "execution_count": 38,
   "id": "2c56a11d",
   "metadata": {},
   "outputs": [],
   "source": [
    "satisfaction_data = mood_data[mood_data['mood_type'] == 'satisfaction']"
   ]
  },
  {
   "cell_type": "code",
   "execution_count": 39,
   "id": "1d10d848",
   "metadata": {},
   "outputs": [
    {
     "data": {
      "text/html": [
       "<div>\n",
       "<style scoped>\n",
       "    .dataframe tbody tr th:only-of-type {\n",
       "        vertical-align: middle;\n",
       "    }\n",
       "\n",
       "    .dataframe tbody tr th {\n",
       "        vertical-align: top;\n",
       "    }\n",
       "\n",
       "    .dataframe thead th {\n",
       "        text-align: right;\n",
       "    }\n",
       "</style>\n",
       "<table border=\"1\" class=\"dataframe\">\n",
       "  <thead>\n",
       "    <tr style=\"text-align: right;\">\n",
       "      <th></th>\n",
       "      <th>dt</th>\n",
       "      <th>mood_type</th>\n",
       "      <th>value</th>\n",
       "      <th>updated_time</th>\n",
       "    </tr>\n",
       "  </thead>\n",
       "  <tbody>\n",
       "    <tr>\n",
       "      <th>2</th>\n",
       "      <td>Wed, 2 Nov 2022 22:06:19</td>\n",
       "      <td>satisfaction</td>\n",
       "      <td>1</td>\n",
       "      <td>2022-11-02 22:06:19</td>\n",
       "    </tr>\n",
       "    <tr>\n",
       "      <th>5</th>\n",
       "      <td>Wed, 14 Dec 2022 03:26:55</td>\n",
       "      <td>satisfaction</td>\n",
       "      <td>4</td>\n",
       "      <td>2022-12-14 03:26:55</td>\n",
       "    </tr>\n",
       "    <tr>\n",
       "      <th>6</th>\n",
       "      <td>Sat, 20 May 2023 00:25:57</td>\n",
       "      <td>satisfaction</td>\n",
       "      <td>4</td>\n",
       "      <td>2023-05-20 00:25:57</td>\n",
       "    </tr>\n",
       "    <tr>\n",
       "      <th>8</th>\n",
       "      <td>Sat, 3 Dec 2022 01:05:45</td>\n",
       "      <td>satisfaction</td>\n",
       "      <td>2</td>\n",
       "      <td>2022-12-03 01:05:45</td>\n",
       "    </tr>\n",
       "    <tr>\n",
       "      <th>27</th>\n",
       "      <td>Sun, 1 Jan 2023 04:07:36</td>\n",
       "      <td>satisfaction</td>\n",
       "      <td>5</td>\n",
       "      <td>2023-01-01 04:07:36</td>\n",
       "    </tr>\n",
       "  </tbody>\n",
       "</table>\n",
       "</div>"
      ],
      "text/plain": [
       "                           dt     mood_type  value        updated_time\n",
       "2    Wed, 2 Nov 2022 22:06:19  satisfaction      1 2022-11-02 22:06:19\n",
       "5   Wed, 14 Dec 2022 03:26:55  satisfaction      4 2022-12-14 03:26:55\n",
       "6   Sat, 20 May 2023 00:25:57  satisfaction      4 2023-05-20 00:25:57\n",
       "8    Sat, 3 Dec 2022 01:05:45  satisfaction      2 2022-12-03 01:05:45\n",
       "27   Sun, 1 Jan 2023 04:07:36  satisfaction      5 2023-01-01 04:07:36"
      ]
     },
     "execution_count": 39,
     "metadata": {},
     "output_type": "execute_result"
    }
   ],
   "source": [
    "satisfaction_data.head()"
   ]
  },
  {
   "cell_type": "code",
   "execution_count": 40,
   "id": "d7ec92ce",
   "metadata": {},
   "outputs": [
    {
     "name": "stderr",
     "output_type": "stream",
     "text": [
      "C:\\Users\\kaley\\AppData\\Local\\Temp\\ipykernel_16796\\3646379311.py:1: SettingWithCopyWarning: \n",
      "A value is trying to be set on a copy of a slice from a DataFrame.\n",
      "Try using .loc[row_indexer,col_indexer] = value instead\n",
      "\n",
      "See the caveats in the documentation: https://pandas.pydata.org/pandas-docs/stable/user_guide/indexing.html#returning-a-view-versus-a-copy\n",
      "  satisfaction_data['Datetime'] = pd.to_datetime(satisfaction_data.dt)\n"
     ]
    }
   ],
   "source": [
    "satisfaction_data['Datetime'] = pd.to_datetime(satisfaction_data.dt)\n",
    "satisfaction_data = satisfaction_data.sort_values(by=['Datetime'])"
   ]
  },
  {
   "cell_type": "code",
   "execution_count": 41,
   "id": "32bf89cf",
   "metadata": {},
   "outputs": [],
   "source": [
    "df = satisfaction_data[['Datetime', 'updated_time']].assign(NE=satisfaction_data.Datetime != satisfaction_data.updated_time)"
   ]
  },
  {
   "cell_type": "code",
   "execution_count": 42,
   "id": "ec58374e",
   "metadata": {},
   "outputs": [
    {
     "data": {
      "text/html": [
       "<div>\n",
       "<style scoped>\n",
       "    .dataframe tbody tr th:only-of-type {\n",
       "        vertical-align: middle;\n",
       "    }\n",
       "\n",
       "    .dataframe tbody tr th {\n",
       "        vertical-align: top;\n",
       "    }\n",
       "\n",
       "    .dataframe thead th {\n",
       "        text-align: right;\n",
       "    }\n",
       "</style>\n",
       "<table border=\"1\" class=\"dataframe\">\n",
       "  <thead>\n",
       "    <tr style=\"text-align: right;\">\n",
       "      <th></th>\n",
       "      <th>Datetime</th>\n",
       "      <th>updated_time</th>\n",
       "    </tr>\n",
       "    <tr>\n",
       "      <th>NE</th>\n",
       "      <th></th>\n",
       "      <th></th>\n",
       "    </tr>\n",
       "  </thead>\n",
       "  <tbody>\n",
       "    <tr>\n",
       "      <th>False</th>\n",
       "      <td>187</td>\n",
       "      <td>187</td>\n",
       "    </tr>\n",
       "  </tbody>\n",
       "</table>\n",
       "</div>"
      ],
      "text/plain": [
       "       Datetime  updated_time\n",
       "NE                           \n",
       "False       187           187"
      ]
     },
     "execution_count": 42,
     "metadata": {},
     "output_type": "execute_result"
    }
   ],
   "source": [
    "df.groupby('NE').count()"
   ]
  },
  {
   "cell_type": "code",
   "execution_count": null,
   "id": "ff0d874a",
   "metadata": {},
   "outputs": [],
   "source": []
  },
  {
   "cell_type": "code",
   "execution_count": 43,
   "id": "adc82e64",
   "metadata": {},
   "outputs": [],
   "source": [
    "satisfaction_data = satisfaction_data[['Datetime','value']]"
   ]
  },
  {
   "cell_type": "code",
   "execution_count": 44,
   "id": "a5b9f4ea",
   "metadata": {},
   "outputs": [
    {
     "data": {
      "text/html": [
       "<div>\n",
       "<style scoped>\n",
       "    .dataframe tbody tr th:only-of-type {\n",
       "        vertical-align: middle;\n",
       "    }\n",
       "\n",
       "    .dataframe tbody tr th {\n",
       "        vertical-align: top;\n",
       "    }\n",
       "\n",
       "    .dataframe thead th {\n",
       "        text-align: right;\n",
       "    }\n",
       "</style>\n",
       "<table border=\"1\" class=\"dataframe\">\n",
       "  <thead>\n",
       "    <tr style=\"text-align: right;\">\n",
       "      <th></th>\n",
       "      <th>Datetime</th>\n",
       "      <th>value</th>\n",
       "    </tr>\n",
       "  </thead>\n",
       "  <tbody>\n",
       "    <tr>\n",
       "      <th>57</th>\n",
       "      <td>2022-10-26 20:55:38</td>\n",
       "      <td>3</td>\n",
       "    </tr>\n",
       "    <tr>\n",
       "      <th>132</th>\n",
       "      <td>2022-10-27 22:19:43</td>\n",
       "      <td>2</td>\n",
       "    </tr>\n",
       "    <tr>\n",
       "      <th>650</th>\n",
       "      <td>2022-10-29 02:09:04</td>\n",
       "      <td>4</td>\n",
       "    </tr>\n",
       "    <tr>\n",
       "      <th>223</th>\n",
       "      <td>2022-10-29 22:44:40</td>\n",
       "      <td>3</td>\n",
       "    </tr>\n",
       "    <tr>\n",
       "      <th>782</th>\n",
       "      <td>2022-10-30 22:08:04</td>\n",
       "      <td>4</td>\n",
       "    </tr>\n",
       "  </tbody>\n",
       "</table>\n",
       "</div>"
      ],
      "text/plain": [
       "               Datetime  value\n",
       "57  2022-10-26 20:55:38      3\n",
       "132 2022-10-27 22:19:43      2\n",
       "650 2022-10-29 02:09:04      4\n",
       "223 2022-10-29 22:44:40      3\n",
       "782 2022-10-30 22:08:04      4"
      ]
     },
     "execution_count": 44,
     "metadata": {},
     "output_type": "execute_result"
    }
   ],
   "source": [
    "satisfaction_data.head()"
   ]
  },
  {
   "cell_type": "code",
   "execution_count": 45,
   "id": "99954971",
   "metadata": {},
   "outputs": [],
   "source": [
    "# remove time from Datetime? but also need to deal with multiple values per day sitch"
   ]
  },
  {
   "cell_type": "code",
   "execution_count": 46,
   "id": "2d7adbf1",
   "metadata": {},
   "outputs": [],
   "source": [
    "satisfaction_data['Date'] = satisfaction_data['Datetime'].dt.date\n",
    "satisfaction_data['Time'] = satisfaction_data['Datetime'].dt.time\n",
    "satisfaction_data = satisfaction_data.rename(columns={'value':'Satisfaction_Score'})"
   ]
  },
  {
   "cell_type": "code",
   "execution_count": 47,
   "id": "a702dd28",
   "metadata": {},
   "outputs": [
    {
     "data": {
      "text/html": [
       "<div>\n",
       "<style scoped>\n",
       "    .dataframe tbody tr th:only-of-type {\n",
       "        vertical-align: middle;\n",
       "    }\n",
       "\n",
       "    .dataframe tbody tr th {\n",
       "        vertical-align: top;\n",
       "    }\n",
       "\n",
       "    .dataframe thead th {\n",
       "        text-align: right;\n",
       "    }\n",
       "</style>\n",
       "<table border=\"1\" class=\"dataframe\">\n",
       "  <thead>\n",
       "    <tr style=\"text-align: right;\">\n",
       "      <th></th>\n",
       "      <th>Datetime</th>\n",
       "      <th>Satisfaction_Score</th>\n",
       "      <th>Date</th>\n",
       "      <th>Time</th>\n",
       "    </tr>\n",
       "  </thead>\n",
       "  <tbody>\n",
       "    <tr>\n",
       "      <th>57</th>\n",
       "      <td>2022-10-26 20:55:38</td>\n",
       "      <td>3</td>\n",
       "      <td>2022-10-26</td>\n",
       "      <td>20:55:38</td>\n",
       "    </tr>\n",
       "    <tr>\n",
       "      <th>132</th>\n",
       "      <td>2022-10-27 22:19:43</td>\n",
       "      <td>2</td>\n",
       "      <td>2022-10-27</td>\n",
       "      <td>22:19:43</td>\n",
       "    </tr>\n",
       "    <tr>\n",
       "      <th>650</th>\n",
       "      <td>2022-10-29 02:09:04</td>\n",
       "      <td>4</td>\n",
       "      <td>2022-10-29</td>\n",
       "      <td>02:09:04</td>\n",
       "    </tr>\n",
       "    <tr>\n",
       "      <th>223</th>\n",
       "      <td>2022-10-29 22:44:40</td>\n",
       "      <td>3</td>\n",
       "      <td>2022-10-29</td>\n",
       "      <td>22:44:40</td>\n",
       "    </tr>\n",
       "    <tr>\n",
       "      <th>782</th>\n",
       "      <td>2022-10-30 22:08:04</td>\n",
       "      <td>4</td>\n",
       "      <td>2022-10-30</td>\n",
       "      <td>22:08:04</td>\n",
       "    </tr>\n",
       "  </tbody>\n",
       "</table>\n",
       "</div>"
      ],
      "text/plain": [
       "               Datetime  Satisfaction_Score        Date      Time\n",
       "57  2022-10-26 20:55:38                   3  2022-10-26  20:55:38\n",
       "132 2022-10-27 22:19:43                   2  2022-10-27  22:19:43\n",
       "650 2022-10-29 02:09:04                   4  2022-10-29  02:09:04\n",
       "223 2022-10-29 22:44:40                   3  2022-10-29  22:44:40\n",
       "782 2022-10-30 22:08:04                   4  2022-10-30  22:08:04"
      ]
     },
     "execution_count": 47,
     "metadata": {},
     "output_type": "execute_result"
    }
   ],
   "source": [
    "satisfaction_data.head()"
   ]
  },
  {
   "cell_type": "code",
   "execution_count": 48,
   "id": "f47957c6",
   "metadata": {},
   "outputs": [],
   "source": [
    "# kewl! lets try to join step and satisfaction data!"
   ]
  },
  {
   "cell_type": "code",
   "execution_count": 49,
   "id": "f48a89e5",
   "metadata": {},
   "outputs": [],
   "source": [
    "step_satisfaction_df = satisfaction_data.set_index('Date').join(step_data.set_index('Date')).reset_index().sort_values(by=['Date'])"
   ]
  },
  {
   "cell_type": "code",
   "execution_count": 50,
   "id": "03dcc803",
   "metadata": {},
   "outputs": [],
   "source": [
    "# apparently some days have multiple\n",
    "# score should be appiinted to date not the day that I entered the score"
   ]
  },
  {
   "cell_type": "code",
   "execution_count": 51,
   "id": "38e1b400",
   "metadata": {},
   "outputs": [
    {
     "data": {
      "text/html": [
       "<div>\n",
       "<style scoped>\n",
       "    .dataframe tbody tr th:only-of-type {\n",
       "        vertical-align: middle;\n",
       "    }\n",
       "\n",
       "    .dataframe tbody tr th {\n",
       "        vertical-align: top;\n",
       "    }\n",
       "\n",
       "    .dataframe thead th {\n",
       "        text-align: right;\n",
       "    }\n",
       "</style>\n",
       "<table border=\"1\" class=\"dataframe\">\n",
       "  <thead>\n",
       "    <tr style=\"text-align: right;\">\n",
       "      <th></th>\n",
       "      <th>Date</th>\n",
       "      <th>Datetime</th>\n",
       "      <th>Satisfaction_Score</th>\n",
       "      <th>Time</th>\n",
       "      <th>Steps</th>\n",
       "    </tr>\n",
       "  </thead>\n",
       "  <tbody>\n",
       "    <tr>\n",
       "      <th>0</th>\n",
       "      <td>2022-10-26</td>\n",
       "      <td>2022-10-26 20:55:38</td>\n",
       "      <td>3</td>\n",
       "      <td>20:55:38</td>\n",
       "      <td>245</td>\n",
       "    </tr>\n",
       "    <tr>\n",
       "      <th>1</th>\n",
       "      <td>2022-10-27</td>\n",
       "      <td>2022-10-27 22:19:43</td>\n",
       "      <td>2</td>\n",
       "      <td>22:19:43</td>\n",
       "      <td>259</td>\n",
       "    </tr>\n",
       "    <tr>\n",
       "      <th>2</th>\n",
       "      <td>2022-10-29</td>\n",
       "      <td>2022-10-29 02:09:04</td>\n",
       "      <td>4</td>\n",
       "      <td>02:09:04</td>\n",
       "      <td>786</td>\n",
       "    </tr>\n",
       "    <tr>\n",
       "      <th>3</th>\n",
       "      <td>2022-10-29</td>\n",
       "      <td>2022-10-29 22:44:40</td>\n",
       "      <td>3</td>\n",
       "      <td>22:44:40</td>\n",
       "      <td>786</td>\n",
       "    </tr>\n",
       "    <tr>\n",
       "      <th>4</th>\n",
       "      <td>2022-10-30</td>\n",
       "      <td>2022-10-30 22:08:04</td>\n",
       "      <td>4</td>\n",
       "      <td>22:08:04</td>\n",
       "      <td>1267</td>\n",
       "    </tr>\n",
       "    <tr>\n",
       "      <th>...</th>\n",
       "      <td>...</td>\n",
       "      <td>...</td>\n",
       "      <td>...</td>\n",
       "      <td>...</td>\n",
       "      <td>...</td>\n",
       "    </tr>\n",
       "    <tr>\n",
       "      <th>182</th>\n",
       "      <td>2023-06-17</td>\n",
       "      <td>2023-06-17 23:29:24</td>\n",
       "      <td>5</td>\n",
       "      <td>23:29:24</td>\n",
       "      <td>9361</td>\n",
       "    </tr>\n",
       "    <tr>\n",
       "      <th>183</th>\n",
       "      <td>2023-06-18</td>\n",
       "      <td>2023-06-18 23:12:39</td>\n",
       "      <td>2</td>\n",
       "      <td>23:12:39</td>\n",
       "      <td>4007</td>\n",
       "    </tr>\n",
       "    <tr>\n",
       "      <th>184</th>\n",
       "      <td>2023-06-20</td>\n",
       "      <td>2023-06-20 00:03:48</td>\n",
       "      <td>4</td>\n",
       "      <td>00:03:48</td>\n",
       "      <td>3517</td>\n",
       "    </tr>\n",
       "    <tr>\n",
       "      <th>185</th>\n",
       "      <td>2023-06-20</td>\n",
       "      <td>2023-06-20 22:24:04</td>\n",
       "      <td>4</td>\n",
       "      <td>22:24:04</td>\n",
       "      <td>3517</td>\n",
       "    </tr>\n",
       "    <tr>\n",
       "      <th>186</th>\n",
       "      <td>2023-06-21</td>\n",
       "      <td>2023-06-21 22:16:52</td>\n",
       "      <td>4</td>\n",
       "      <td>22:16:52</td>\n",
       "      <td>5350</td>\n",
       "    </tr>\n",
       "  </tbody>\n",
       "</table>\n",
       "<p>187 rows × 5 columns</p>\n",
       "</div>"
      ],
      "text/plain": [
       "           Date            Datetime  Satisfaction_Score      Time  Steps\n",
       "0    2022-10-26 2022-10-26 20:55:38                   3  20:55:38    245\n",
       "1    2022-10-27 2022-10-27 22:19:43                   2  22:19:43    259\n",
       "2    2022-10-29 2022-10-29 02:09:04                   4  02:09:04    786\n",
       "3    2022-10-29 2022-10-29 22:44:40                   3  22:44:40    786\n",
       "4    2022-10-30 2022-10-30 22:08:04                   4  22:08:04   1267\n",
       "..          ...                 ...                 ...       ...    ...\n",
       "182  2023-06-17 2023-06-17 23:29:24                   5  23:29:24   9361\n",
       "183  2023-06-18 2023-06-18 23:12:39                   2  23:12:39   4007\n",
       "184  2023-06-20 2023-06-20 00:03:48                   4  00:03:48   3517\n",
       "185  2023-06-20 2023-06-20 22:24:04                   4  22:24:04   3517\n",
       "186  2023-06-21 2023-06-21 22:16:52                   4  22:16:52   5350\n",
       "\n",
       "[187 rows x 5 columns]"
      ]
     },
     "execution_count": 51,
     "metadata": {},
     "output_type": "execute_result"
    }
   ],
   "source": [
    "step_satisfaction_df"
   ]
  },
  {
   "cell_type": "code",
   "execution_count": 52,
   "id": "7d39da82",
   "metadata": {},
   "outputs": [],
   "source": [
    "# if TIME is after midnight and the previous DATE has no satisfaction value"
   ]
  },
  {
   "cell_type": "code",
   "execution_count": 53,
   "id": "9eb5c007",
   "metadata": {},
   "outputs": [],
   "source": [
    "# TODO: I don't like this process, seems messy, alternative method for filling missing dates/values?\n",
    "# I have the values need to apply them to missing dates"
   ]
  },
  {
   "cell_type": "code",
   "execution_count": 54,
   "id": "9d45584b",
   "metadata": {},
   "outputs": [],
   "source": [
    "# is there a more efficient way to do this?\n",
    "min_date = step_satisfaction_df.Date.min()\n",
    "max_date = step_satisfaction_df.Date.max()\n",
    "\n",
    "idx = pd.date_range(min_date, max_date)\n",
    "df = pd.DataFrame(index=idx)"
   ]
  },
  {
   "cell_type": "code",
   "execution_count": 55,
   "id": "59b32595",
   "metadata": {},
   "outputs": [],
   "source": [
    "# df.head()"
   ]
  },
  {
   "cell_type": "code",
   "execution_count": 56,
   "id": "a38218fa",
   "metadata": {},
   "outputs": [],
   "source": [
    "# step_satisfaction_df = satisfaction_data.set_index('Date').join(df, how='right')"
   ]
  },
  {
   "cell_type": "code",
   "execution_count": 57,
   "id": "19da2959",
   "metadata": {},
   "outputs": [],
   "source": [
    "# step_satisfaction_df.reset_index().rename(columns={'index': 'Date', 'Datetime': 'score_entered_time'})"
   ]
  },
  {
   "cell_type": "code",
   "execution_count": 58,
   "id": "f2698b80",
   "metadata": {},
   "outputs": [],
   "source": [
    "#  should I just change the duplicated date to the previous date - that is missing the score\n",
    "#  need another column, for the date associated with the score, while datetime is associated with the time the score was given"
   ]
  },
  {
   "cell_type": "code",
   "execution_count": 59,
   "id": "955cf39b",
   "metadata": {},
   "outputs": [],
   "source": [
    "# okay different attempt"
   ]
  },
  {
   "cell_type": "code",
   "execution_count": 60,
   "id": "00862d3b",
   "metadata": {},
   "outputs": [
    {
     "data": {
      "text/html": [
       "<div>\n",
       "<style scoped>\n",
       "    .dataframe tbody tr th:only-of-type {\n",
       "        vertical-align: middle;\n",
       "    }\n",
       "\n",
       "    .dataframe tbody tr th {\n",
       "        vertical-align: top;\n",
       "    }\n",
       "\n",
       "    .dataframe thead th {\n",
       "        text-align: right;\n",
       "    }\n",
       "</style>\n",
       "<table border=\"1\" class=\"dataframe\">\n",
       "  <thead>\n",
       "    <tr style=\"text-align: right;\">\n",
       "      <th></th>\n",
       "      <th>Date</th>\n",
       "      <th>Datetime</th>\n",
       "      <th>Satisfaction_Score</th>\n",
       "      <th>Time</th>\n",
       "      <th>Steps</th>\n",
       "    </tr>\n",
       "  </thead>\n",
       "  <tbody>\n",
       "    <tr>\n",
       "      <th>0</th>\n",
       "      <td>2022-10-26</td>\n",
       "      <td>2022-10-26 20:55:38</td>\n",
       "      <td>3</td>\n",
       "      <td>20:55:38</td>\n",
       "      <td>245</td>\n",
       "    </tr>\n",
       "    <tr>\n",
       "      <th>1</th>\n",
       "      <td>2022-10-27</td>\n",
       "      <td>2022-10-27 22:19:43</td>\n",
       "      <td>2</td>\n",
       "      <td>22:19:43</td>\n",
       "      <td>259</td>\n",
       "    </tr>\n",
       "    <tr>\n",
       "      <th>2</th>\n",
       "      <td>2022-10-29</td>\n",
       "      <td>2022-10-29 02:09:04</td>\n",
       "      <td>4</td>\n",
       "      <td>02:09:04</td>\n",
       "      <td>786</td>\n",
       "    </tr>\n",
       "    <tr>\n",
       "      <th>3</th>\n",
       "      <td>2022-10-29</td>\n",
       "      <td>2022-10-29 22:44:40</td>\n",
       "      <td>3</td>\n",
       "      <td>22:44:40</td>\n",
       "      <td>786</td>\n",
       "    </tr>\n",
       "    <tr>\n",
       "      <th>4</th>\n",
       "      <td>2022-10-30</td>\n",
       "      <td>2022-10-30 22:08:04</td>\n",
       "      <td>4</td>\n",
       "      <td>22:08:04</td>\n",
       "      <td>1267</td>\n",
       "    </tr>\n",
       "  </tbody>\n",
       "</table>\n",
       "</div>"
      ],
      "text/plain": [
       "         Date            Datetime  Satisfaction_Score      Time  Steps\n",
       "0  2022-10-26 2022-10-26 20:55:38                   3  20:55:38    245\n",
       "1  2022-10-27 2022-10-27 22:19:43                   2  22:19:43    259\n",
       "2  2022-10-29 2022-10-29 02:09:04                   4  02:09:04    786\n",
       "3  2022-10-29 2022-10-29 22:44:40                   3  22:44:40    786\n",
       "4  2022-10-30 2022-10-30 22:08:04                   4  22:08:04   1267"
      ]
     },
     "execution_count": 60,
     "metadata": {},
     "output_type": "execute_result"
    }
   ],
   "source": [
    "step_satisfaction_df.head()"
   ]
  },
  {
   "cell_type": "code",
   "execution_count": 61,
   "id": "84acdf19",
   "metadata": {},
   "outputs": [
    {
     "data": {
      "text/html": [
       "<div>\n",
       "<style scoped>\n",
       "    .dataframe tbody tr th:only-of-type {\n",
       "        vertical-align: middle;\n",
       "    }\n",
       "\n",
       "    .dataframe tbody tr th {\n",
       "        vertical-align: top;\n",
       "    }\n",
       "\n",
       "    .dataframe thead th {\n",
       "        text-align: right;\n",
       "    }\n",
       "</style>\n",
       "<table border=\"1\" class=\"dataframe\">\n",
       "  <thead>\n",
       "    <tr style=\"text-align: right;\">\n",
       "      <th></th>\n",
       "      <th>Date</th>\n",
       "      <th>Time_score_entered</th>\n",
       "      <th>Satisfaction_Score</th>\n",
       "      <th>Time</th>\n",
       "      <th>Steps</th>\n",
       "    </tr>\n",
       "  </thead>\n",
       "  <tbody>\n",
       "    <tr>\n",
       "      <th>0</th>\n",
       "      <td>2022-10-26</td>\n",
       "      <td>2022-10-26 20:55:38</td>\n",
       "      <td>3</td>\n",
       "      <td>20:55:38</td>\n",
       "      <td>245</td>\n",
       "    </tr>\n",
       "    <tr>\n",
       "      <th>1</th>\n",
       "      <td>2022-10-27</td>\n",
       "      <td>2022-10-27 22:19:43</td>\n",
       "      <td>2</td>\n",
       "      <td>22:19:43</td>\n",
       "      <td>259</td>\n",
       "    </tr>\n",
       "    <tr>\n",
       "      <th>2</th>\n",
       "      <td>2022-10-29</td>\n",
       "      <td>2022-10-29 02:09:04</td>\n",
       "      <td>4</td>\n",
       "      <td>02:09:04</td>\n",
       "      <td>786</td>\n",
       "    </tr>\n",
       "    <tr>\n",
       "      <th>3</th>\n",
       "      <td>2022-10-29</td>\n",
       "      <td>2022-10-29 22:44:40</td>\n",
       "      <td>3</td>\n",
       "      <td>22:44:40</td>\n",
       "      <td>786</td>\n",
       "    </tr>\n",
       "    <tr>\n",
       "      <th>4</th>\n",
       "      <td>2022-10-30</td>\n",
       "      <td>2022-10-30 22:08:04</td>\n",
       "      <td>4</td>\n",
       "      <td>22:08:04</td>\n",
       "      <td>1267</td>\n",
       "    </tr>\n",
       "    <tr>\n",
       "      <th>...</th>\n",
       "      <td>...</td>\n",
       "      <td>...</td>\n",
       "      <td>...</td>\n",
       "      <td>...</td>\n",
       "      <td>...</td>\n",
       "    </tr>\n",
       "    <tr>\n",
       "      <th>182</th>\n",
       "      <td>2023-06-17</td>\n",
       "      <td>2023-06-17 23:29:24</td>\n",
       "      <td>5</td>\n",
       "      <td>23:29:24</td>\n",
       "      <td>9361</td>\n",
       "    </tr>\n",
       "    <tr>\n",
       "      <th>183</th>\n",
       "      <td>2023-06-18</td>\n",
       "      <td>2023-06-18 23:12:39</td>\n",
       "      <td>2</td>\n",
       "      <td>23:12:39</td>\n",
       "      <td>4007</td>\n",
       "    </tr>\n",
       "    <tr>\n",
       "      <th>184</th>\n",
       "      <td>2023-06-20</td>\n",
       "      <td>2023-06-20 00:03:48</td>\n",
       "      <td>4</td>\n",
       "      <td>00:03:48</td>\n",
       "      <td>3517</td>\n",
       "    </tr>\n",
       "    <tr>\n",
       "      <th>185</th>\n",
       "      <td>2023-06-20</td>\n",
       "      <td>2023-06-20 22:24:04</td>\n",
       "      <td>4</td>\n",
       "      <td>22:24:04</td>\n",
       "      <td>3517</td>\n",
       "    </tr>\n",
       "    <tr>\n",
       "      <th>186</th>\n",
       "      <td>2023-06-21</td>\n",
       "      <td>2023-06-21 22:16:52</td>\n",
       "      <td>4</td>\n",
       "      <td>22:16:52</td>\n",
       "      <td>5350</td>\n",
       "    </tr>\n",
       "  </tbody>\n",
       "</table>\n",
       "<p>187 rows × 5 columns</p>\n",
       "</div>"
      ],
      "text/plain": [
       "           Date  Time_score_entered  Satisfaction_Score      Time  Steps\n",
       "0    2022-10-26 2022-10-26 20:55:38                   3  20:55:38    245\n",
       "1    2022-10-27 2022-10-27 22:19:43                   2  22:19:43    259\n",
       "2    2022-10-29 2022-10-29 02:09:04                   4  02:09:04    786\n",
       "3    2022-10-29 2022-10-29 22:44:40                   3  22:44:40    786\n",
       "4    2022-10-30 2022-10-30 22:08:04                   4  22:08:04   1267\n",
       "..          ...                 ...                 ...       ...    ...\n",
       "182  2023-06-17 2023-06-17 23:29:24                   5  23:29:24   9361\n",
       "183  2023-06-18 2023-06-18 23:12:39                   2  23:12:39   4007\n",
       "184  2023-06-20 2023-06-20 00:03:48                   4  00:03:48   3517\n",
       "185  2023-06-20 2023-06-20 22:24:04                   4  22:24:04   3517\n",
       "186  2023-06-21 2023-06-21 22:16:52                   4  22:16:52   5350\n",
       "\n",
       "[187 rows x 5 columns]"
      ]
     },
     "execution_count": 61,
     "metadata": {},
     "output_type": "execute_result"
    }
   ],
   "source": [
    "step_satisfaction_df.rename(columns={'Datetime':'Time_score_entered'})"
   ]
  },
  {
   "cell_type": "code",
   "execution_count": null,
   "id": "b6b87085",
   "metadata": {},
   "outputs": [],
   "source": [
    " # so algorithm:\n",
    "    # check for duplicates in Date col?\n",
    "    # then replace date that has earlier time w one day previous\n",
    "    \n",
    "# THIS SHOULD BE DONE BEFORE merging w step data ? join on Date not Time_score_entered"
   ]
  }
 ],
 "metadata": {
  "kernelspec": {
   "display_name": "Python 3 (ipykernel)",
   "language": "python",
   "name": "python3"
  },
  "language_info": {
   "codemirror_mode": {
    "name": "ipython",
    "version": 3
   },
   "file_extension": ".py",
   "mimetype": "text/x-python",
   "name": "python",
   "nbconvert_exporter": "python",
   "pygments_lexer": "ipython3",
   "version": "3.9.13"
  }
 },
 "nbformat": 4,
 "nbformat_minor": 5
}
