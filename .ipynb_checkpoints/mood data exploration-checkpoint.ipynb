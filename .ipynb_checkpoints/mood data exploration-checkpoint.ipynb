{
 "cells": [
  {
   "cell_type": "code",
   "execution_count": 24,
   "id": "7a56dcd1",
   "metadata": {},
   "outputs": [],
   "source": [
    "import pandas as pd\n",
    "import matplotlib.pyplot as plt"
   ]
  },
  {
   "cell_type": "code",
   "execution_count": 25,
   "id": "6f5a6010",
   "metadata": {},
   "outputs": [],
   "source": [
    "data_location = 'C:/Users/kaley/OneDrive/Documents/Coding Stuff/Data Science/Mental Health Project/Sample Data/'\n",
    "mood_data_location = data_location+'FinchExport_2025-03-01/Mood.json'\n",
    "tag_data_location = data_location+'FinchExport_2025-03-01/Tag.json'"
   ]
  },
  {
   "cell_type": "code",
   "execution_count": 3,
   "id": "5cedf973",
   "metadata": {},
   "outputs": [],
   "source": [
    "mood_series = pd.read_json(mood_data_location, typ='series')\n",
    "mood_data = pd.json_normalize(mood_series.data)"
   ]
  },
  {
   "cell_type": "code",
   "execution_count": 4,
   "id": "ccab9df7",
   "metadata": {},
   "outputs": [
    {
     "data": {
      "text/html": [
       "<div>\n",
       "<style scoped>\n",
       "    .dataframe tbody tr th:only-of-type {\n",
       "        vertical-align: middle;\n",
       "    }\n",
       "\n",
       "    .dataframe tbody tr th {\n",
       "        vertical-align: top;\n",
       "    }\n",
       "\n",
       "    .dataframe thead th {\n",
       "        text-align: right;\n",
       "    }\n",
       "</style>\n",
       "<table border=\"1\" class=\"dataframe\">\n",
       "  <thead>\n",
       "    <tr style=\"text-align: right;\">\n",
       "      <th></th>\n",
       "      <th>dt</th>\n",
       "      <th>mood_type</th>\n",
       "      <th>value</th>\n",
       "      <th>updated_time</th>\n",
       "    </tr>\n",
       "  </thead>\n",
       "  <tbody>\n",
       "    <tr>\n",
       "      <th>0</th>\n",
       "      <td>Sat, 6 May 2023 14:00:58</td>\n",
       "      <td>feeling</td>\n",
       "      <td>4</td>\n",
       "      <td>Sat, 6 May 2023 14:00:58</td>\n",
       "    </tr>\n",
       "    <tr>\n",
       "      <th>1</th>\n",
       "      <td>Sun, 11 Feb 2024 04:06:37</td>\n",
       "      <td>satisfaction</td>\n",
       "      <td>4</td>\n",
       "      <td>Sun, 11 Feb 2024 04:06:37</td>\n",
       "    </tr>\n",
       "    <tr>\n",
       "      <th>2</th>\n",
       "      <td>Wed, 2 Nov 2022 09:04:11</td>\n",
       "      <td>motivation</td>\n",
       "      <td>3</td>\n",
       "      <td>Wed, 2 Nov 2022 09:04:11</td>\n",
       "    </tr>\n",
       "    <tr>\n",
       "      <th>3</th>\n",
       "      <td>Wed, 12 Jul 2023 19:02:37</td>\n",
       "      <td>feeling</td>\n",
       "      <td>3</td>\n",
       "      <td>Wed, 12 Jul 2023 19:02:37</td>\n",
       "    </tr>\n",
       "    <tr>\n",
       "      <th>4</th>\n",
       "      <td>Sat, 1 Mar 2025 13:39:47</td>\n",
       "      <td>motivation</td>\n",
       "      <td>2</td>\n",
       "      <td>Sat, 1 Mar 2025 13:39:47</td>\n",
       "    </tr>\n",
       "  </tbody>\n",
       "</table>\n",
       "</div>"
      ],
      "text/plain": [
       "                          dt     mood_type value               updated_time\n",
       "0   Sat, 6 May 2023 14:00:58       feeling     4   Sat, 6 May 2023 14:00:58\n",
       "1  Sun, 11 Feb 2024 04:06:37  satisfaction     4  Sun, 11 Feb 2024 04:06:37\n",
       "2   Wed, 2 Nov 2022 09:04:11    motivation     3   Wed, 2 Nov 2022 09:04:11\n",
       "3  Wed, 12 Jul 2023 19:02:37       feeling     3  Wed, 12 Jul 2023 19:02:37\n",
       "4   Sat, 1 Mar 2025 13:39:47    motivation     2   Sat, 1 Mar 2025 13:39:47"
      ]
     },
     "execution_count": 4,
     "metadata": {},
     "output_type": "execute_result"
    }
   ],
   "source": [
    "mood_data.head()"
   ]
  },
  {
   "cell_type": "code",
   "execution_count": 5,
   "id": "e7342cce",
   "metadata": {},
   "outputs": [
    {
     "data": {
      "text/html": [
       "<div>\n",
       "<style scoped>\n",
       "    .dataframe tbody tr th:only-of-type {\n",
       "        vertical-align: middle;\n",
       "    }\n",
       "\n",
       "    .dataframe tbody tr th {\n",
       "        vertical-align: top;\n",
       "    }\n",
       "\n",
       "    .dataframe thead th {\n",
       "        text-align: right;\n",
       "    }\n",
       "</style>\n",
       "<table border=\"1\" class=\"dataframe\">\n",
       "  <thead>\n",
       "    <tr style=\"text-align: right;\">\n",
       "      <th></th>\n",
       "      <th>dt</th>\n",
       "      <th>mood_type</th>\n",
       "      <th>value</th>\n",
       "      <th>updated_time</th>\n",
       "    </tr>\n",
       "  </thead>\n",
       "  <tbody>\n",
       "    <tr>\n",
       "      <th>count</th>\n",
       "      <td>3882</td>\n",
       "      <td>3882</td>\n",
       "      <td>3882</td>\n",
       "      <td>3882</td>\n",
       "    </tr>\n",
       "    <tr>\n",
       "      <th>unique</th>\n",
       "      <td>3881</td>\n",
       "      <td>3</td>\n",
       "      <td>5</td>\n",
       "      <td>3881</td>\n",
       "    </tr>\n",
       "    <tr>\n",
       "      <th>top</th>\n",
       "      <td>Sun, 25 Aug 2024 04:13:58</td>\n",
       "      <td>feeling</td>\n",
       "      <td>4</td>\n",
       "      <td>Sun, 25 Aug 2024 04:13:58</td>\n",
       "    </tr>\n",
       "    <tr>\n",
       "      <th>freq</th>\n",
       "      <td>2</td>\n",
       "      <td>2376</td>\n",
       "      <td>2223</td>\n",
       "      <td>2</td>\n",
       "    </tr>\n",
       "  </tbody>\n",
       "</table>\n",
       "</div>"
      ],
      "text/plain": [
       "                               dt mood_type value               updated_time\n",
       "count                        3882      3882  3882                       3882\n",
       "unique                       3881         3     5                       3881\n",
       "top     Sun, 25 Aug 2024 04:13:58   feeling     4  Sun, 25 Aug 2024 04:13:58\n",
       "freq                            2      2376  2223                          2"
      ]
     },
     "execution_count": 5,
     "metadata": {},
     "output_type": "execute_result"
    }
   ],
   "source": [
    "mood_data.describe()"
   ]
  },
  {
   "cell_type": "code",
   "execution_count": 6,
   "id": "d427a693",
   "metadata": {},
   "outputs": [],
   "source": [
    "mood_data['value'] = pd.to_numeric(mood_data.value)"
   ]
  },
  {
   "cell_type": "code",
   "execution_count": 7,
   "id": "a3207435",
   "metadata": {},
   "outputs": [
    {
     "data": {
      "text/plain": [
       "dt              object\n",
       "mood_type       object\n",
       "value            int64\n",
       "updated_time    object\n",
       "dtype: object"
      ]
     },
     "execution_count": 7,
     "metadata": {},
     "output_type": "execute_result"
    }
   ],
   "source": [
    "mood_data.dtypes"
   ]
  },
  {
   "cell_type": "code",
   "execution_count": 8,
   "id": "f81ce2ed",
   "metadata": {},
   "outputs": [
    {
     "data": {
      "text/html": [
       "<div>\n",
       "<style scoped>\n",
       "    .dataframe tbody tr th:only-of-type {\n",
       "        vertical-align: middle;\n",
       "    }\n",
       "\n",
       "    .dataframe tbody tr th {\n",
       "        vertical-align: top;\n",
       "    }\n",
       "\n",
       "    .dataframe thead th {\n",
       "        text-align: right;\n",
       "    }\n",
       "</style>\n",
       "<table border=\"1\" class=\"dataframe\">\n",
       "  <thead>\n",
       "    <tr style=\"text-align: right;\">\n",
       "      <th></th>\n",
       "      <th>dt</th>\n",
       "      <th>value</th>\n",
       "      <th>updated_time</th>\n",
       "    </tr>\n",
       "    <tr>\n",
       "      <th>mood_type</th>\n",
       "      <th></th>\n",
       "      <th></th>\n",
       "      <th></th>\n",
       "    </tr>\n",
       "  </thead>\n",
       "  <tbody>\n",
       "    <tr>\n",
       "      <th>feeling</th>\n",
       "      <td>2376</td>\n",
       "      <td>2376</td>\n",
       "      <td>2376</td>\n",
       "    </tr>\n",
       "    <tr>\n",
       "      <th>motivation</th>\n",
       "      <td>827</td>\n",
       "      <td>827</td>\n",
       "      <td>827</td>\n",
       "    </tr>\n",
       "    <tr>\n",
       "      <th>satisfaction</th>\n",
       "      <td>679</td>\n",
       "      <td>679</td>\n",
       "      <td>679</td>\n",
       "    </tr>\n",
       "  </tbody>\n",
       "</table>\n",
       "</div>"
      ],
      "text/plain": [
       "                dt  value  updated_time\n",
       "mood_type                              \n",
       "feeling       2376   2376          2376\n",
       "motivation     827    827           827\n",
       "satisfaction   679    679           679"
      ]
     },
     "execution_count": 8,
     "metadata": {},
     "output_type": "execute_result"
    }
   ],
   "source": [
    "mood_data.groupby(by=['mood_type']).count()"
   ]
  },
  {
   "cell_type": "code",
   "execution_count": 9,
   "id": "55d85eee",
   "metadata": {},
   "outputs": [],
   "source": [
    "# these are the three categories of Mood available from my Finch data\n",
    "# from my understanding, based on using the Finch app, the categories are:\n",
    "#  * feeling : 1 to 5, \"sad\" face to \"happy\" face, how I felt in that moment\n",
    "#  * motivation : 1 to 5, how motivated I feel for the day ahead, asked when I first open the app that day\n",
    "#  * satisfaction : 1 to 5, how satisfied I felt for the day, asked at the end of the day"
   ]
  },
  {
   "cell_type": "code",
   "execution_count": 10,
   "id": "30adc814",
   "metadata": {},
   "outputs": [],
   "source": [
    "feeling_data = mood_data[mood_data['mood_type'] == 'feeling']"
   ]
  },
  {
   "cell_type": "code",
   "execution_count": 11,
   "id": "dc8213a3",
   "metadata": {},
   "outputs": [],
   "source": [
    "feeling_data = feeling_data[['dt', 'value']]"
   ]
  },
  {
   "cell_type": "code",
   "execution_count": 12,
   "id": "9f1c4529",
   "metadata": {},
   "outputs": [
    {
     "data": {
      "text/html": [
       "<div>\n",
       "<style scoped>\n",
       "    .dataframe tbody tr th:only-of-type {\n",
       "        vertical-align: middle;\n",
       "    }\n",
       "\n",
       "    .dataframe tbody tr th {\n",
       "        vertical-align: top;\n",
       "    }\n",
       "\n",
       "    .dataframe thead th {\n",
       "        text-align: right;\n",
       "    }\n",
       "</style>\n",
       "<table border=\"1\" class=\"dataframe\">\n",
       "  <thead>\n",
       "    <tr style=\"text-align: right;\">\n",
       "      <th></th>\n",
       "      <th>dt</th>\n",
       "      <th>value</th>\n",
       "    </tr>\n",
       "  </thead>\n",
       "  <tbody>\n",
       "    <tr>\n",
       "      <th>0</th>\n",
       "      <td>Sat, 6 May 2023 14:00:58</td>\n",
       "      <td>4</td>\n",
       "    </tr>\n",
       "    <tr>\n",
       "      <th>3</th>\n",
       "      <td>Wed, 12 Jul 2023 19:02:37</td>\n",
       "      <td>3</td>\n",
       "    </tr>\n",
       "    <tr>\n",
       "      <th>6</th>\n",
       "      <td>Tue, 10 Dec 2024 16:48:10</td>\n",
       "      <td>4</td>\n",
       "    </tr>\n",
       "    <tr>\n",
       "      <th>8</th>\n",
       "      <td>Sun, 29 Oct 2023 20:50:48</td>\n",
       "      <td>3</td>\n",
       "    </tr>\n",
       "    <tr>\n",
       "      <th>10</th>\n",
       "      <td>Thu, 27 Oct 2022 00:48:53</td>\n",
       "      <td>3</td>\n",
       "    </tr>\n",
       "  </tbody>\n",
       "</table>\n",
       "</div>"
      ],
      "text/plain": [
       "                           dt  value\n",
       "0    Sat, 6 May 2023 14:00:58      4\n",
       "3   Wed, 12 Jul 2023 19:02:37      3\n",
       "6   Tue, 10 Dec 2024 16:48:10      4\n",
       "8   Sun, 29 Oct 2023 20:50:48      3\n",
       "10  Thu, 27 Oct 2022 00:48:53      3"
      ]
     },
     "execution_count": 12,
     "metadata": {},
     "output_type": "execute_result"
    }
   ],
   "source": [
    "feeling_data.head()"
   ]
  },
  {
   "cell_type": "code",
   "execution_count": 43,
   "id": "4bc1e238",
   "metadata": {},
   "outputs": [],
   "source": [
    "feeling_data['Datetime'] = pd.to_datetime(feeling_data.dt)\n",
    "feeling_data['Date'] = feeling_data['Datetime'].dt.date"
   ]
  },
  {
   "cell_type": "code",
   "execution_count": 44,
   "id": "b5f54e46",
   "metadata": {},
   "outputs": [
    {
     "data": {
      "text/html": [
       "<div>\n",
       "<style scoped>\n",
       "    .dataframe tbody tr th:only-of-type {\n",
       "        vertical-align: middle;\n",
       "    }\n",
       "\n",
       "    .dataframe tbody tr th {\n",
       "        vertical-align: top;\n",
       "    }\n",
       "\n",
       "    .dataframe thead th {\n",
       "        text-align: right;\n",
       "    }\n",
       "</style>\n",
       "<table border=\"1\" class=\"dataframe\">\n",
       "  <thead>\n",
       "    <tr style=\"text-align: right;\">\n",
       "      <th></th>\n",
       "      <th>dt</th>\n",
       "      <th>Date</th>\n",
       "      <th>Datetime</th>\n",
       "    </tr>\n",
       "    <tr>\n",
       "      <th>value</th>\n",
       "      <th></th>\n",
       "      <th></th>\n",
       "      <th></th>\n",
       "    </tr>\n",
       "  </thead>\n",
       "  <tbody>\n",
       "    <tr>\n",
       "      <th>1</th>\n",
       "      <td>33</td>\n",
       "      <td>33</td>\n",
       "      <td>33</td>\n",
       "    </tr>\n",
       "    <tr>\n",
       "      <th>2</th>\n",
       "      <td>100</td>\n",
       "      <td>100</td>\n",
       "      <td>100</td>\n",
       "    </tr>\n",
       "    <tr>\n",
       "      <th>3</th>\n",
       "      <td>640</td>\n",
       "      <td>640</td>\n",
       "      <td>640</td>\n",
       "    </tr>\n",
       "    <tr>\n",
       "      <th>4</th>\n",
       "      <td>1515</td>\n",
       "      <td>1515</td>\n",
       "      <td>1515</td>\n",
       "    </tr>\n",
       "    <tr>\n",
       "      <th>5</th>\n",
       "      <td>88</td>\n",
       "      <td>88</td>\n",
       "      <td>88</td>\n",
       "    </tr>\n",
       "  </tbody>\n",
       "</table>\n",
       "</div>"
      ],
      "text/plain": [
       "         dt  Date  Datetime\n",
       "value                      \n",
       "1        33    33        33\n",
       "2       100   100       100\n",
       "3       640   640       640\n",
       "4      1515  1515      1515\n",
       "5        88    88        88"
      ]
     },
     "execution_count": 44,
     "metadata": {},
     "output_type": "execute_result"
    }
   ],
   "source": [
    "# looking at the spread of how often I feel each feeling\n",
    "feeling_data.groupby(\"value\").count()"
   ]
  },
  {
   "cell_type": "code",
   "execution_count": 45,
   "id": "a32af567",
   "metadata": {},
   "outputs": [],
   "source": [
    "# looking at motivation\n",
    "motivation_data = mood_data[mood_data['mood_type'] == 'motivation']"
   ]
  },
  {
   "cell_type": "code",
   "execution_count": 46,
   "id": "8c97e6ee",
   "metadata": {},
   "outputs": [
    {
     "data": {
      "text/html": [
       "<div>\n",
       "<style scoped>\n",
       "    .dataframe tbody tr th:only-of-type {\n",
       "        vertical-align: middle;\n",
       "    }\n",
       "\n",
       "    .dataframe tbody tr th {\n",
       "        vertical-align: top;\n",
       "    }\n",
       "\n",
       "    .dataframe thead th {\n",
       "        text-align: right;\n",
       "    }\n",
       "</style>\n",
       "<table border=\"1\" class=\"dataframe\">\n",
       "  <thead>\n",
       "    <tr style=\"text-align: right;\">\n",
       "      <th></th>\n",
       "      <th>dt</th>\n",
       "      <th>mood_type</th>\n",
       "      <th>updated_time</th>\n",
       "    </tr>\n",
       "    <tr>\n",
       "      <th>value</th>\n",
       "      <th></th>\n",
       "      <th></th>\n",
       "      <th></th>\n",
       "    </tr>\n",
       "  </thead>\n",
       "  <tbody>\n",
       "    <tr>\n",
       "      <th>1</th>\n",
       "      <td>6</td>\n",
       "      <td>6</td>\n",
       "      <td>6</td>\n",
       "    </tr>\n",
       "    <tr>\n",
       "      <th>2</th>\n",
       "      <td>50</td>\n",
       "      <td>50</td>\n",
       "      <td>50</td>\n",
       "    </tr>\n",
       "    <tr>\n",
       "      <th>3</th>\n",
       "      <td>341</td>\n",
       "      <td>341</td>\n",
       "      <td>341</td>\n",
       "    </tr>\n",
       "    <tr>\n",
       "      <th>4</th>\n",
       "      <td>389</td>\n",
       "      <td>389</td>\n",
       "      <td>389</td>\n",
       "    </tr>\n",
       "    <tr>\n",
       "      <th>5</th>\n",
       "      <td>41</td>\n",
       "      <td>41</td>\n",
       "      <td>41</td>\n",
       "    </tr>\n",
       "  </tbody>\n",
       "</table>\n",
       "</div>"
      ],
      "text/plain": [
       "        dt  mood_type  updated_time\n",
       "value                              \n",
       "1        6          6             6\n",
       "2       50         50            50\n",
       "3      341        341           341\n",
       "4      389        389           389\n",
       "5       41         41            41"
      ]
     },
     "execution_count": 46,
     "metadata": {},
     "output_type": "execute_result"
    }
   ],
   "source": [
    "motivation_data.groupby('value').count()"
   ]
  },
  {
   "cell_type": "code",
   "execution_count": 47,
   "id": "fe2c7b3c",
   "metadata": {},
   "outputs": [],
   "source": [
    "satisfaction_data = mood_data[mood_data['mood_type'] == 'satisfaction']"
   ]
  },
  {
   "cell_type": "code",
   "execution_count": 48,
   "id": "7ea01cd7",
   "metadata": {},
   "outputs": [
    {
     "data": {
      "text/html": [
       "<div>\n",
       "<style scoped>\n",
       "    .dataframe tbody tr th:only-of-type {\n",
       "        vertical-align: middle;\n",
       "    }\n",
       "\n",
       "    .dataframe tbody tr th {\n",
       "        vertical-align: top;\n",
       "    }\n",
       "\n",
       "    .dataframe thead th {\n",
       "        text-align: right;\n",
       "    }\n",
       "</style>\n",
       "<table border=\"1\" class=\"dataframe\">\n",
       "  <thead>\n",
       "    <tr style=\"text-align: right;\">\n",
       "      <th></th>\n",
       "      <th>dt</th>\n",
       "      <th>mood_type</th>\n",
       "      <th>value</th>\n",
       "      <th>updated_time</th>\n",
       "    </tr>\n",
       "  </thead>\n",
       "  <tbody>\n",
       "    <tr>\n",
       "      <th>1</th>\n",
       "      <td>Sun, 11 Feb 2024 04:06:37</td>\n",
       "      <td>satisfaction</td>\n",
       "      <td>4</td>\n",
       "      <td>Sun, 11 Feb 2024 04:06:37</td>\n",
       "    </tr>\n",
       "    <tr>\n",
       "      <th>7</th>\n",
       "      <td>Wed, 2 Nov 2022 22:06:19</td>\n",
       "      <td>satisfaction</td>\n",
       "      <td>1</td>\n",
       "      <td>Wed, 2 Nov 2022 22:06:19</td>\n",
       "    </tr>\n",
       "    <tr>\n",
       "      <th>11</th>\n",
       "      <td>Sun, 3 Nov 2024 01:17:46</td>\n",
       "      <td>satisfaction</td>\n",
       "      <td>3</td>\n",
       "      <td>Sun, 3 Nov 2024 01:17:46</td>\n",
       "    </tr>\n",
       "    <tr>\n",
       "      <th>14</th>\n",
       "      <td>Wed, 14 Dec 2022 03:26:55</td>\n",
       "      <td>satisfaction</td>\n",
       "      <td>4</td>\n",
       "      <td>Wed, 14 Dec 2022 03:26:55</td>\n",
       "    </tr>\n",
       "    <tr>\n",
       "      <th>16</th>\n",
       "      <td>Sat, 20 May 2023 00:25:57</td>\n",
       "      <td>satisfaction</td>\n",
       "      <td>4</td>\n",
       "      <td>Sat, 20 May 2023 00:25:57</td>\n",
       "    </tr>\n",
       "  </tbody>\n",
       "</table>\n",
       "</div>"
      ],
      "text/plain": [
       "                           dt     mood_type  value               updated_time\n",
       "1   Sun, 11 Feb 2024 04:06:37  satisfaction      4  Sun, 11 Feb 2024 04:06:37\n",
       "7    Wed, 2 Nov 2022 22:06:19  satisfaction      1   Wed, 2 Nov 2022 22:06:19\n",
       "11   Sun, 3 Nov 2024 01:17:46  satisfaction      3   Sun, 3 Nov 2024 01:17:46\n",
       "14  Wed, 14 Dec 2022 03:26:55  satisfaction      4  Wed, 14 Dec 2022 03:26:55\n",
       "16  Sat, 20 May 2023 00:25:57  satisfaction      4  Sat, 20 May 2023 00:25:57"
      ]
     },
     "execution_count": 48,
     "metadata": {},
     "output_type": "execute_result"
    }
   ],
   "source": [
    "satisfaction_data.head()"
   ]
  },
  {
   "cell_type": "code",
   "execution_count": null,
   "id": "a9fe98e2",
   "metadata": {},
   "outputs": [],
   "source": []
  },
  {
   "cell_type": "code",
   "execution_count": null,
   "id": "bb4c7827",
   "metadata": {},
   "outputs": [],
   "source": []
  },
  {
   "cell_type": "code",
   "execution_count": 49,
   "id": "71284792",
   "metadata": {},
   "outputs": [],
   "source": [
    "# feeling_data as function of time?"
   ]
  },
  {
   "cell_type": "code",
   "execution_count": 50,
   "id": "0b555836",
   "metadata": {},
   "outputs": [
    {
     "data": {
      "image/png": "[encoded data removed]",
      "text/plain": [
       "<Figure size 640x480 with 1 Axes>"
      ]
     },
     "metadata": {},
     "output_type": "display_data"
    }
   ],
   "source": [
    "feeling_data.plot(x='Date', y='value');"
   ]
  },
  {
   "cell_type": "code",
   "execution_count": 21,
   "id": "c6d242d0",
   "metadata": {},
   "outputs": [],
   "source": [
    "# the graph isn't super meaningful of course, as moods flucuate too rapidly\n",
    "# modeling the data and looking for trends and relationships between factors should be better"
   ]
  },
  {
   "cell_type": "code",
   "execution_count": 22,
   "id": "f032a431",
   "metadata": {},
   "outputs": [],
   "source": [
    "# feelings (1=bad ... 5=great) as response variable, \"effect\" ?\n",
    "# Ordinal Logistic Regression"
   ]
  },
  {
   "cell_type": "code",
   "execution_count": 55,
   "id": "bbd64b79",
   "metadata": {},
   "outputs": [],
   "source": [
    "values = feeling_data['value'].tolist()\n",
    "dates = feeling_data['Date'].tolist()"
   ]
  },
  {
   "cell_type": "code",
   "execution_count": 56,
   "id": "f9f772a4",
   "metadata": {},
   "outputs": [
    {
     "data": {
      "image/png": "[encoded data removed]",
      "text/plain": [
       "<Figure size 640x480 with 1 Axes>"
      ]
     },
     "metadata": {},
     "output_type": "display_data"
    }
   ],
   "source": [
    "max_val = max(values)\n",
    "min_val = min(values)\n",
    "num_bins = 4\n",
    "jumps = (max_val - min_val)//num_bins\n",
    "\n",
    "plt.hist(values, bins=num_bins)\n",
    "plt.grid(True)\n",
    "plt.xticks(range(min_val,max_val+1,jumps))\n",
    "plt.xlabel('Moods')\n",
    "plt.ylabel('Number of Mood Records')\n",
    "plt.show()"
   ]
  },
  {
   "cell_type": "code",
   "execution_count": 72,
   "id": "52d75bb9",
   "metadata": {},
   "outputs": [
    {
     "data": {
      "text/html": [
       "<div>\n",
       "<style scoped>\n",
       "    .dataframe tbody tr th:only-of-type {\n",
       "        vertical-align: middle;\n",
       "    }\n",
       "\n",
       "    .dataframe tbody tr th {\n",
       "        vertical-align: top;\n",
       "    }\n",
       "\n",
       "    .dataframe thead th {\n",
       "        text-align: right;\n",
       "    }\n",
       "</style>\n",
       "<table border=\"1\" class=\"dataframe\">\n",
       "  <thead>\n",
       "    <tr style=\"text-align: right;\">\n",
       "      <th></th>\n",
       "      <th>Date</th>\n",
       "      <th>value</th>\n",
       "    </tr>\n",
       "  </thead>\n",
       "  <tbody>\n",
       "    <tr>\n",
       "      <th>0</th>\n",
       "      <td>2022-10-26</td>\n",
       "      <td>3.000</td>\n",
       "    </tr>\n",
       "    <tr>\n",
       "      <th>1</th>\n",
       "      <td>2022-10-27</td>\n",
       "      <td>3.000</td>\n",
       "    </tr>\n",
       "    <tr>\n",
       "      <th>2</th>\n",
       "      <td>2022-10-28</td>\n",
       "      <td>2.875</td>\n",
       "    </tr>\n",
       "    <tr>\n",
       "      <th>3</th>\n",
       "      <td>2022-10-29</td>\n",
       "      <td>3.500</td>\n",
       "    </tr>\n",
       "    <tr>\n",
       "      <th>4</th>\n",
       "      <td>2022-10-30</td>\n",
       "      <td>3.500</td>\n",
       "    </tr>\n",
       "  </tbody>\n",
       "</table>\n",
       "</div>"
      ],
      "text/plain": [
       "         Date  value\n",
       "0  2022-10-26  3.000\n",
       "1  2022-10-27  3.000\n",
       "2  2022-10-28  2.875\n",
       "3  2022-10-29  3.500\n",
       "4  2022-10-30  3.500"
      ]
     },
     "execution_count": 72,
     "metadata": {},
     "output_type": "execute_result"
    }
   ],
   "source": [
    "avg_feels = feeling_data.groupby('Date').mean().reset_index()\n",
    "avg_feels.head()"
   ]
  },
  {
   "cell_type": "code",
   "execution_count": 84,
   "id": "b7800703",
   "metadata": {},
   "outputs": [],
   "source": [
    "avg_feel_list = avg_feels['value'].tolist()\n",
    "dates_for_avg = avg_feels['Date'].tolist()"
   ]
  },
  {
   "cell_type": "code",
   "execution_count": 83,
   "id": "ccafda6c",
   "metadata": {},
   "outputs": [
    {
     "data": {
      "image/png": "[encoded data removed]",
      "text/plain": [
       "<Figure size 640x480 with 1 Axes>"
      ]
     },
     "metadata": {},
     "output_type": "display_data"
    }
   ],
   "source": [
    "num_bins = 4\n",
    "\n",
    "plt.hist(avg_feel_list, bins=num_bins)\n",
    "plt.grid(True)\n",
    "plt.xticks(range(1,6))\n",
    "plt.xlabel('Average Moods')\n",
    "plt.ylabel('Number of Days')\n",
    "plt.show()"
   ]
  },
  {
   "cell_type": "code",
   "execution_count": 90,
   "id": "64a7697d",
   "metadata": {},
   "outputs": [
    {
     "data": {
      "image/png": "[encoded data removed]",
      "text/plain": [
       "<Figure size 640x480 with 1 Axes>"
      ]
     },
     "metadata": {},
     "output_type": "display_data"
    }
   ],
   "source": [
    "plt.scatter(dates_for_avg, avg_feel_list)\n",
    "#plt.xticks(dates_for_avg)\n",
    "plt.xlabel('Date')\n",
    "plt.ylabel('Average Mood')\n",
    "plt.title('Moods over Time')\n",
    "plt.grid(True, linewidth= 1, linestyle=\"--\")\n",
    "plt.show()"
   ]
  },
  {
   "cell_type": "markdown",
   "id": "12dae22f",
   "metadata": {},
   "source": [
    "# Tags"
   ]
  },
  {
   "cell_type": "code",
   "execution_count": 26,
   "id": "ad43af9e",
   "metadata": {},
   "outputs": [],
   "source": [
    "# glancing at the tag data, I'm disapointed not to see a datetime column\n",
    "# date was the main plan for joining on other data\n",
    "# I need some sort of explanation for other columns though, tag_type for instance\n",
    "\n",
    "tag_series = pd.read_json(tag_data_location, typ='series')\n",
    "tag_data = pd.json_normalize(tag_series.data)"
   ]
  },
  {
   "cell_type": "code",
   "execution_count": 27,
   "id": "348c2003",
   "metadata": {},
   "outputs": [
    {
     "data": {
      "text/html": [
       "<div>\n",
       "<style scoped>\n",
       "    .dataframe tbody tr th:only-of-type {\n",
       "        vertical-align: middle;\n",
       "    }\n",
       "\n",
       "    .dataframe tbody tr th {\n",
       "        vertical-align: top;\n",
       "    }\n",
       "\n",
       "    .dataframe thead th {\n",
       "        text-align: right;\n",
       "    }\n",
       "</style>\n",
       "<table border=\"1\" class=\"dataframe\">\n",
       "  <thead>\n",
       "    <tr style=\"text-align: right;\">\n",
       "      <th></th>\n",
       "      <th>name</th>\n",
       "      <th>tag_type</th>\n",
       "      <th>flags</th>\n",
       "      <th>shape</th>\n",
       "      <th>parent</th>\n",
       "      <th>is_locked</th>\n",
       "      <th>area_names</th>\n",
       "      <th>children</th>\n",
       "      <th>tree_town_id</th>\n",
       "    </tr>\n",
       "  </thead>\n",
       "  <tbody>\n",
       "    <tr>\n",
       "      <th>0</th>\n",
       "      <td>access</td>\n",
       "      <td>4</td>\n",
       "      <td>[9]</td>\n",
       "      <td>xxxx</td>\n",
       "      <td>NaN</td>\n",
       "      <td>NaN</td>\n",
       "      <td>NaN</td>\n",
       "      <td>NaN</td>\n",
       "      <td>NaN</td>\n",
       "    </tr>\n",
       "    <tr>\n",
       "      <th>1</th>\n",
       "      <td>accomplished</td>\n",
       "      <td>4</td>\n",
       "      <td>[11]</td>\n",
       "      <td>xxxx</td>\n",
       "      <td>NaN</td>\n",
       "      <td>NaN</td>\n",
       "      <td>NaN</td>\n",
       "      <td>NaN</td>\n",
       "      <td>NaN</td>\n",
       "    </tr>\n",
       "    <tr>\n",
       "      <th>2</th>\n",
       "      <td>adult</td>\n",
       "      <td>4</td>\n",
       "      <td>[9]</td>\n",
       "      <td>xxxx</td>\n",
       "      <td>NaN</td>\n",
       "      <td>NaN</td>\n",
       "      <td>NaN</td>\n",
       "      <td>NaN</td>\n",
       "      <td>NaN</td>\n",
       "    </tr>\n",
       "    <tr>\n",
       "      <th>3</th>\n",
       "      <td>adventures</td>\n",
       "      <td>4</td>\n",
       "      <td>[9]</td>\n",
       "      <td>xxxx</td>\n",
       "      <td>NaN</td>\n",
       "      <td>NaN</td>\n",
       "      <td>NaN</td>\n",
       "      <td>NaN</td>\n",
       "      <td>NaN</td>\n",
       "    </tr>\n",
       "    <tr>\n",
       "      <th>4</th>\n",
       "      <td>affirmation</td>\n",
       "      <td>4</td>\n",
       "      <td>[9]</td>\n",
       "      <td>xxxx</td>\n",
       "      <td>NaN</td>\n",
       "      <td>NaN</td>\n",
       "      <td>NaN</td>\n",
       "      <td>NaN</td>\n",
       "      <td>NaN</td>\n",
       "    </tr>\n",
       "  </tbody>\n",
       "</table>\n",
       "</div>"
      ],
      "text/plain": [
       "           name  tag_type flags shape parent is_locked area_names children  \\\n",
       "0        access         4   [9]  xxxx    NaN       NaN        NaN      NaN   \n",
       "1  accomplished         4  [11]  xxxx    NaN       NaN        NaN      NaN   \n",
       "2         adult         4   [9]  xxxx    NaN       NaN        NaN      NaN   \n",
       "3    adventures         4   [9]  xxxx    NaN       NaN        NaN      NaN   \n",
       "4   affirmation         4   [9]  xxxx    NaN       NaN        NaN      NaN   \n",
       "\n",
       "  tree_town_id  \n",
       "0          NaN  \n",
       "1          NaN  \n",
       "2          NaN  \n",
       "3          NaN  \n",
       "4          NaN  "
      ]
     },
     "execution_count": 27,
     "metadata": {},
     "output_type": "execute_result"
    }
   ],
   "source": [
    "tag_data.head()"
   ]
  },
  {
   "cell_type": "code",
   "execution_count": 28,
   "id": "887d6e3c",
   "metadata": {},
   "outputs": [
    {
     "data": {
      "text/html": [
       "<div>\n",
       "<style scoped>\n",
       "    .dataframe tbody tr th:only-of-type {\n",
       "        vertical-align: middle;\n",
       "    }\n",
       "\n",
       "    .dataframe tbody tr th {\n",
       "        vertical-align: top;\n",
       "    }\n",
       "\n",
       "    .dataframe thead th {\n",
       "        text-align: right;\n",
       "    }\n",
       "</style>\n",
       "<table border=\"1\" class=\"dataframe\">\n",
       "  <thead>\n",
       "    <tr style=\"text-align: right;\">\n",
       "      <th></th>\n",
       "      <th>tag_type</th>\n",
       "      <th>flags</th>\n",
       "      <th>shape</th>\n",
       "      <th>parent</th>\n",
       "      <th>is_locked</th>\n",
       "      <th>area_names</th>\n",
       "      <th>children</th>\n",
       "      <th>tree_town_id</th>\n",
       "    </tr>\n",
       "    <tr>\n",
       "      <th>name</th>\n",
       "      <th></th>\n",
       "      <th></th>\n",
       "      <th></th>\n",
       "      <th></th>\n",
       "      <th></th>\n",
       "      <th></th>\n",
       "      <th></th>\n",
       "      <th></th>\n",
       "    </tr>\n",
       "  </thead>\n",
       "  <tbody>\n",
       "    <tr>\n",
       "      <th>access</th>\n",
       "      <td>1</td>\n",
       "      <td>1</td>\n",
       "      <td>1</td>\n",
       "      <td>0</td>\n",
       "      <td>0</td>\n",
       "      <td>0</td>\n",
       "      <td>0</td>\n",
       "      <td>0</td>\n",
       "    </tr>\n",
       "    <tr>\n",
       "      <th>accomplished</th>\n",
       "      <td>1</td>\n",
       "      <td>1</td>\n",
       "      <td>1</td>\n",
       "      <td>0</td>\n",
       "      <td>0</td>\n",
       "      <td>0</td>\n",
       "      <td>0</td>\n",
       "      <td>0</td>\n",
       "    </tr>\n",
       "    <tr>\n",
       "      <th>adult</th>\n",
       "      <td>1</td>\n",
       "      <td>1</td>\n",
       "      <td>1</td>\n",
       "      <td>0</td>\n",
       "      <td>0</td>\n",
       "      <td>0</td>\n",
       "      <td>0</td>\n",
       "      <td>0</td>\n",
       "    </tr>\n",
       "    <tr>\n",
       "      <th>adventures</th>\n",
       "      <td>1</td>\n",
       "      <td>1</td>\n",
       "      <td>1</td>\n",
       "      <td>0</td>\n",
       "      <td>0</td>\n",
       "      <td>0</td>\n",
       "      <td>0</td>\n",
       "      <td>0</td>\n",
       "    </tr>\n",
       "    <tr>\n",
       "      <th>affirmation</th>\n",
       "      <td>1</td>\n",
       "      <td>1</td>\n",
       "      <td>1</td>\n",
       "      <td>0</td>\n",
       "      <td>0</td>\n",
       "      <td>0</td>\n",
       "      <td>0</td>\n",
       "      <td>0</td>\n",
       "    </tr>\n",
       "    <tr>\n",
       "      <th>...</th>\n",
       "      <td>...</td>\n",
       "      <td>...</td>\n",
       "      <td>...</td>\n",
       "      <td>...</td>\n",
       "      <td>...</td>\n",
       "      <td>...</td>\n",
       "      <td>...</td>\n",
       "      <td>...</td>\n",
       "    </tr>\n",
       "    <tr>\n",
       "      <th>writing</th>\n",
       "      <td>1</td>\n",
       "      <td>0</td>\n",
       "      <td>0</td>\n",
       "      <td>0</td>\n",
       "      <td>0</td>\n",
       "      <td>1</td>\n",
       "      <td>1</td>\n",
       "      <td>0</td>\n",
       "    </tr>\n",
       "    <tr>\n",
       "      <th>yin</th>\n",
       "      <td>1</td>\n",
       "      <td>1</td>\n",
       "      <td>1</td>\n",
       "      <td>0</td>\n",
       "      <td>0</td>\n",
       "      <td>1</td>\n",
       "      <td>1</td>\n",
       "      <td>0</td>\n",
       "    </tr>\n",
       "    <tr>\n",
       "      <th>yoga</th>\n",
       "      <td>1</td>\n",
       "      <td>1</td>\n",
       "      <td>1</td>\n",
       "      <td>0</td>\n",
       "      <td>0</td>\n",
       "      <td>1</td>\n",
       "      <td>1</td>\n",
       "      <td>0</td>\n",
       "    </tr>\n",
       "    <tr>\n",
       "      <th>yoga class</th>\n",
       "      <td>1</td>\n",
       "      <td>1</td>\n",
       "      <td>1</td>\n",
       "      <td>0</td>\n",
       "      <td>0</td>\n",
       "      <td>0</td>\n",
       "      <td>0</td>\n",
       "      <td>0</td>\n",
       "    </tr>\n",
       "    <tr>\n",
       "      <th>zucchini</th>\n",
       "      <td>1</td>\n",
       "      <td>1</td>\n",
       "      <td>1</td>\n",
       "      <td>0</td>\n",
       "      <td>0</td>\n",
       "      <td>0</td>\n",
       "      <td>0</td>\n",
       "      <td>0</td>\n",
       "    </tr>\n",
       "  </tbody>\n",
       "</table>\n",
       "<p>336 rows × 8 columns</p>\n",
       "</div>"
      ],
      "text/plain": [
       "              tag_type  flags  shape  parent  is_locked  area_names  children  \\\n",
       "name                                                                            \n",
       "access               1      1      1       0          0           0         0   \n",
       "accomplished         1      1      1       0          0           0         0   \n",
       "adult                1      1      1       0          0           0         0   \n",
       "adventures           1      1      1       0          0           0         0   \n",
       "affirmation          1      1      1       0          0           0         0   \n",
       "...                ...    ...    ...     ...        ...         ...       ...   \n",
       "writing              1      0      0       0          0           1         1   \n",
       "yin                  1      1      1       0          0           1         1   \n",
       "yoga                 1      1      1       0          0           1         1   \n",
       "yoga class           1      1      1       0          0           0         0   \n",
       "zucchini             1      1      1       0          0           0         0   \n",
       "\n",
       "              tree_town_id  \n",
       "name                        \n",
       "access                   0  \n",
       "accomplished             0  \n",
       "adult                    0  \n",
       "adventures               0  \n",
       "affirmation              0  \n",
       "...                    ...  \n",
       "writing                  0  \n",
       "yin                      0  \n",
       "yoga                     0  \n",
       "yoga class               0  \n",
       "zucchini                 0  \n",
       "\n",
       "[336 rows x 8 columns]"
      ]
     },
     "execution_count": 28,
     "metadata": {},
     "output_type": "execute_result"
    }
   ],
   "source": [
    "tag_data.groupby('name').count()"
   ]
  },
  {
   "cell_type": "code",
   "execution_count": null,
   "id": "ec52326a",
   "metadata": {},
   "outputs": [],
   "source": []
  }
 ],
 "metadata": {
  "kernelspec": {
   "display_name": "Python 3 (ipykernel)",
   "language": "python",
   "name": "python3"
  },
  "language_info": {
   "codemirror_mode": {
    "name": "ipython",
    "version": 3
   },
   "file_extension": ".py",
   "mimetype": "text/x-python",
   "name": "python",
   "nbconvert_exporter": "python",
   "pygments_lexer": "ipython3",
   "version": "3.9.13"
  }
 },
 "nbformat": 4,
 "nbformat_minor": 5
}
